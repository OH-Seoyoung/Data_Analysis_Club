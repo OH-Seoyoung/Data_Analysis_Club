{
 "cells": [
  {
   "cell_type": "markdown",
   "metadata": {
    "colab_type": "text",
    "id": "u3ECJS0zIT78"
   },
   "source": [
    "# Regression and Classification\n",
    "- Decision tree, Random Forest, Gradient Boosting, Ada Boost Algorithm"
   ]
  },
  {
   "cell_type": "markdown",
   "metadata": {},
   "source": [
    "## 1. Import Packages"
   ]
  },
  {
   "cell_type": "code",
   "execution_count": 31,
   "metadata": {
    "colab": {
     "base_uri": "https://localhost:8080/",
     "height": 467
    },
    "colab_type": "code",
    "executionInfo": {
     "elapsed": 716,
     "status": "ok",
     "timestamp": 1589507727651,
     "user": {
      "displayName": "Han Byeol Jo",
      "photoUrl": "https://lh4.googleusercontent.com/-zVUOAZJynk4/AAAAAAAAAAI/AAAAAAAAAGA/LreMZTXPkDE/s64/photo.jpg",
      "userId": "06956541013026466486"
     },
     "user_tz": -540
    },
    "id": "-SiYWf4fAzhD",
    "outputId": "d455bcde-21ae-4c1c-a855-93f263284a03"
   },
   "outputs": [],
   "source": [
    "import pandas as pd\n",
    "import matplotlib.pyplot as plt\n",
    "import numpy as np\n",
    "from sklearn.model_selection import train_test_split\n",
    "from sklearn.tree import DecisionTreeClassifier\n",
    "from sklearn.ensemble import GradientBoostingClassifier\n",
    "from sklearn.ensemble import RandomForestClassifier\n",
    "from sklearn.ensemble import AdaBoostClassifier"
   ]
  },
  {
   "cell_type": "markdown",
   "metadata": {},
   "source": [
    "## 2. Load Dataset"
   ]
  },
  {
   "cell_type": "code",
   "execution_count": 18,
   "metadata": {},
   "outputs": [],
   "source": [
    "dataset1 = pd.read_csv('cancer.csv')\n",
    "\n",
    "X1 = dataset.iloc[:, 1:30]\n",
    "Y1 = dataset.iloc[:, 30]\n",
    "x1_train, x1_test, y1_train, y1_test = train_test_split(X1, Y1, stratify = Y1, random_state=42)\n",
    "\n",
    "dataset2 = pd.read_csv('tree.csv')\n",
    "X2 = dataset2.iloc[:, 0:2]\n",
    "Y2 = dataset2.iloc[:, 2]\n",
    "x2_train, x2_test, y2_train, y2_test = train_test_split(X2, Y2, stratify = Y2, random_state=42)"
   ]
  },
  {
   "cell_type": "markdown",
   "metadata": {
    "colab_type": "text",
    "id": "ESHQ9tenIZoL"
   },
   "source": [
    "## 3-1. Decision Tree"
   ]
  },
  {
   "cell_type": "code",
   "execution_count": 4,
   "metadata": {
    "colab": {
     "base_uri": "https://localhost:8080/",
     "height": 377
    },
    "colab_type": "code",
    "executionInfo": {
     "elapsed": 758,
     "status": "ok",
     "timestamp": 1589506537110,
     "user": {
      "displayName": "Han Byeol Jo",
      "photoUrl": "https://lh4.googleusercontent.com/-zVUOAZJynk4/AAAAAAAAAAI/AAAAAAAAAGA/LreMZTXPkDE/s64/photo.jpg",
      "userId": "06956541013026466486"
     },
     "user_tz": -540
    },
    "id": "OgOH9L3BA6Pp",
    "outputId": "2d47e968-ff7f-4913-a955-49723e8adcc4"
   },
   "outputs": [
    {
     "data": {
      "text/plain": [
       "DecisionTreeClassifier(class_weight=None, criterion='gini', max_depth=3,\n",
       "                       max_features=None, max_leaf_nodes=None,\n",
       "                       min_impurity_decrease=0.0, min_impurity_split=None,\n",
       "                       min_samples_leaf=1, min_samples_split=2,\n",
       "                       min_weight_fraction_leaf=0.0, presort=False,\n",
       "                       random_state=42, splitter='best')"
      ]
     },
     "execution_count": 4,
     "metadata": {},
     "output_type": "execute_result"
    }
   ],
   "source": [
    "tree = DecisionTreeClassifier(max_depth=3, random_state=42)\n",
    "tree.fit(x1_train, y1_train)"
   ]
  },
  {
   "cell_type": "markdown",
   "metadata": {
    "colab_type": "text",
    "id": "JWP16jlfIcdF"
   },
   "source": [
    "## 3-2. Accuracy Analysis"
   ]
  },
  {
   "cell_type": "code",
   "execution_count": 5,
   "metadata": {
    "colab": {
     "base_uri": "https://localhost:8080/",
     "height": 179
    },
    "colab_type": "code",
    "executionInfo": {
     "elapsed": 871,
     "status": "ok",
     "timestamp": 1589506407192,
     "user": {
      "displayName": "Han Byeol Jo",
      "photoUrl": "https://lh4.googleusercontent.com/-zVUOAZJynk4/AAAAAAAAAAI/AAAAAAAAAGA/LreMZTXPkDE/s64/photo.jpg",
      "userId": "06956541013026466486"
     },
     "user_tz": -540
    },
    "id": "1DdWAQy3BRYX",
    "outputId": "09295ac7-86e0-45f7-d4c1-cb3f813a9e29"
   },
   "outputs": [
    {
     "name": "stdout",
     "output_type": "stream",
     "text": [
      "prediction : [1. 0. 1. 1. 1. 0. 0. 0. 0. 1. 1. 1. 0. 0. 1. 1. 0. 0. 1. 1. 0. 0. 1. 1.\n",
      " 1. 1. 1. 1. 1. 0. 1. 1. 1. 1. 1. 1. 1. 1. 0. 1. 0. 1. 0. 1. 0. 1. 0. 1.\n",
      " 1. 1. 1. 1. 1. 0. 1. 1. 1. 0. 0. 0. 1. 0. 1. 0. 1. 1. 0. 1. 1. 1. 1. 1.\n",
      " 1. 1. 1. 0. 0. 0. 0. 1. 1. 1. 1. 1. 0. 1. 0. 1. 1. 1. 1. 0. 1. 1. 1. 0.\n",
      " 0. 1. 0. 1. 0. 0. 0. 1. 1. 0. 1. 1. 0. 1. 0. 1. 1. 1. 1. 0. 1. 1. 1. 0.\n",
      " 1. 1. 0. 1. 1. 1. 1. 0. 1. 1. 1. 1. 1. 0. 0. 1. 1. 1. 1. 1. 1. 1. 1.]\n",
      "train accuracy : 0.9671361502347418\n",
      "test accuracy : 0.9370629370629371\n"
     ]
    }
   ],
   "source": [
    "print(\"prediction :\", tree.predict(x1_test))\n",
    "print(\"train accuracy :\", tree.score(x1_train, y1_train))\n",
    "print(\"test accuracy :\", tree.score(x1_test, y1_test))"
   ]
  },
  {
   "cell_type": "markdown",
   "metadata": {
    "colab_type": "text",
    "id": "721zh-ciXVk4"
   },
   "source": [
    "## 3-3. Featuer Importance"
   ]
  },
  {
   "cell_type": "code",
   "execution_count": 10,
   "metadata": {
    "colab": {
     "base_uri": "https://localhost:8080/",
     "height": 1000
    },
    "colab_type": "code",
    "executionInfo": {
     "elapsed": 1125,
     "status": "ok",
     "timestamp": 1589506542108,
     "user": {
      "displayName": "Han Byeol Jo",
      "photoUrl": "https://lh4.googleusercontent.com/-zVUOAZJynk4/AAAAAAAAAAI/AAAAAAAAAGA/LreMZTXPkDE/s64/photo.jpg",
      "userId": "06956541013026466486"
     },
     "user_tz": -540
    },
    "id": "xreYo74aXULQ",
    "outputId": "966e7297-3a40-4363-ed29-6536b9408614"
   },
   "outputs": [
    {
     "name": "stdout",
     "output_type": "stream",
     "text": [
      "Featuer Importance : [0.         0.         0.         0.         0.         0.\n",
      " 0.         0.         0.         0.         0.03144434 0.\n",
      " 0.         0.         0.         0.         0.         0.\n",
      " 0.         0.         0.01258952 0.         0.76952234 0.\n",
      " 0.         0.01942949 0.16701431 0.         0.        ]\n"
     ]
    },
    {
     "data": {
      "image/png": "[encoded data removed]",
      "text/plain": [
       "<Figure size 432x288 with 1 Axes>"
      ]
     },
     "metadata": {
      "needs_background": "light"
     },
     "output_type": "display_data"
    }
   ],
   "source": [
    "print(\"Featuer Importance :\", tree.feature_importances_)\n",
    "\n",
    "\n",
    "n_features = x1_train.shape[1]\n",
    "plt.barh(np.arange(n_features), tree.feature_importances_, align=\"center\")\n",
    "plt.yticks(np.arange(n_features), x1_train.columns)\n",
    "plt.show()"
   ]
  },
  {
   "cell_type": "markdown",
   "metadata": {
    "colab_type": "text",
    "id": "_1cnvEO7BFww"
   },
   "source": [
    "## 4-1. Random Forest"
   ]
  },
  {
   "cell_type": "code",
   "execution_count": 20,
   "metadata": {
    "colab": {
     "base_uri": "https://localhost:8080/",
     "height": 107
    },
    "colab_type": "code",
    "executionInfo": {
     "elapsed": 795,
     "status": "ok",
     "timestamp": 1589507420363,
     "user": {
      "displayName": "Han Byeol Jo",
      "photoUrl": "https://lh4.googleusercontent.com/-zVUOAZJynk4/AAAAAAAAAAI/AAAAAAAAAGA/LreMZTXPkDE/s64/photo.jpg",
      "userId": "06956541013026466486"
     },
     "user_tz": -540
    },
    "id": "2ND-RyryFJS_",
    "outputId": "5051392d-6e79-46f5-88fb-9287e982a012",
    "scrolled": true
   },
   "outputs": [
    {
     "data": {
      "text/plain": [
       "RandomForestClassifier(bootstrap=True, class_weight=None, criterion='gini',\n",
       "                       max_depth=None, max_features='auto', max_leaf_nodes=None,\n",
       "                       min_impurity_decrease=0.0, min_impurity_split=None,\n",
       "                       min_samples_leaf=1, min_samples_split=2,\n",
       "                       min_weight_fraction_leaf=0.0, n_estimators=10,\n",
       "                       n_jobs=None, oob_score=False, random_state=0, verbose=0,\n",
       "                       warm_start=False)"
      ]
     },
     "execution_count": 20,
     "metadata": {},
     "output_type": "execute_result"
    }
   ],
   "source": [
    "forest = RandomForestClassifier(n_estimators=10, random_state=0)\n",
    "forest.fit(x2_train, y2_train)"
   ]
  },
  {
   "cell_type": "markdown",
   "metadata": {},
   "source": [
    "## 4-2. Accuracy Analysis"
   ]
  },
  {
   "cell_type": "code",
   "execution_count": 21,
   "metadata": {},
   "outputs": [
    {
     "name": "stdout",
     "output_type": "stream",
     "text": [
      "prediction : [1. 1. 1. 0. 1. 0. 0. 0. 1. 1. 0. 1. 0. 0. 0. 0. 0. 1. 0. 0. 0. 0. 0. 0.\n",
      " 1.]\n",
      "train accuracy : 0.9733333333333334\n",
      "test accuracy : 0.88\n"
     ]
    }
   ],
   "source": [
    "print(\"prediction :\", forest.predict(x2_test))\n",
    "print(\"train accuracy :\", forest.score(x2_train, y2_train))\n",
    "print(\"test accuracy :\", forest.score(x2_test, y2_test))"
   ]
  },
  {
   "cell_type": "code",
   "execution_count": 23,
   "metadata": {
    "colab": {},
    "colab_type": "code",
    "id": "V1Pb3U1dJE2T"
   },
   "outputs": [
    {
     "name": "stdout",
     "output_type": "stream",
     "text": [
      "Featuer Importance : [0.         0.         0.         0.         0.         0.\n",
      " 0.         0.         0.         0.         0.03144434 0.\n",
      " 0.         0.         0.         0.         0.         0.\n",
      " 0.         0.         0.01258952 0.         0.76952234 0.\n",
      " 0.         0.01942949 0.16701431 0.         0.        ]\n"
     ]
    },
    {
     "data": {
      "image/png": "[encoded data removed]",
      "text/plain": [
       "<Figure size 432x288 with 1 Axes>"
      ]
     },
     "metadata": {
      "needs_background": "light"
     },
     "output_type": "display_data"
    }
   ],
   "source": [
    "print(\"Featuer Importance :\", tree.feature_importances_)\n",
    "\n",
    "n_features = x2_train.shape[1]\n",
    "plt.barh(np.arange(n_features), forest.feature_importances_, align=\"center\")\n",
    "plt.yticks(np.arange(n_features), x2_train.columns)\n",
    "plt.show()"
   ]
  },
  {
   "cell_type": "markdown",
   "metadata": {
    "colab_type": "text",
    "id": "Ay5s8XuLJlU6"
   },
   "source": [
    "## 5-1. Gradient Boosting"
   ]
  },
  {
   "cell_type": "code",
   "execution_count": 26,
   "metadata": {
    "colab": {
     "base_uri": "https://localhost:8080/",
     "height": 179
    },
    "colab_type": "code",
    "executionInfo": {
     "elapsed": 758,
     "status": "ok",
     "timestamp": 1589508046041,
     "user": {
      "displayName": "Han Byeol Jo",
      "photoUrl": "https://lh4.googleusercontent.com/-zVUOAZJynk4/AAAAAAAAAAI/AAAAAAAAAGA/LreMZTXPkDE/s64/photo.jpg",
      "userId": "06956541013026466486"
     },
     "user_tz": -540
    },
    "id": "oMdtnndTJjIL",
    "outputId": "f05d6cfa-d211-49b2-fade-ac1b16ff7a73",
    "scrolled": true
   },
   "outputs": [
    {
     "data": {
      "text/plain": [
       "GradientBoostingClassifier(criterion='friedman_mse', init=None,\n",
       "                           learning_rate=0.1, loss='deviance', max_depth=3,\n",
       "                           max_features=None, max_leaf_nodes=None,\n",
       "                           min_impurity_decrease=0.0, min_impurity_split=None,\n",
       "                           min_samples_leaf=1, min_samples_split=2,\n",
       "                           min_weight_fraction_leaf=0.0, n_estimators=10,\n",
       "                           n_iter_no_change=None, presort='auto',\n",
       "                           random_state=0, subsample=1.0, tol=0.0001,\n",
       "                           validation_fraction=0.1, verbose=0,\n",
       "                           warm_start=False)"
      ]
     },
     "execution_count": 26,
     "metadata": {},
     "output_type": "execute_result"
    }
   ],
   "source": [
    "gb = GradientBoostingClassifier(n_estimators=10, random_state=0)\n",
    "gb.fit(x1_train, y1_train)"
   ]
  },
  {
   "cell_type": "markdown",
   "metadata": {},
   "source": [
    "## 5-2. Accuracy Analysis"
   ]
  },
  {
   "cell_type": "code",
   "execution_count": 28,
   "metadata": {},
   "outputs": [
    {
     "name": "stdout",
     "output_type": "stream",
     "text": [
      "prediction : [1. 0. 1. 1. 1. 0. 0. 0. 0. 1. 1. 1. 0. 0. 1. 1. 0. 0. 1. 1. 0. 0. 1. 1.\n",
      " 1. 1. 1. 1. 1. 0. 1. 1. 1. 1. 1. 1. 1. 1. 0. 1. 0. 1. 0. 1. 0. 1. 0. 1.\n",
      " 0. 1. 1. 1. 1. 0. 1. 1. 1. 0. 0. 0. 1. 0. 1. 0. 1. 1. 0. 1. 1. 1. 1. 1.\n",
      " 1. 1. 1. 0. 0. 0. 0. 1. 1. 1. 1. 1. 0. 1. 0. 1. 1. 1. 1. 0. 0. 1. 1. 0.\n",
      " 0. 1. 0. 1. 0. 0. 0. 1. 1. 0. 1. 1. 0. 1. 0. 1. 1. 1. 1. 0. 1. 1. 1. 0.\n",
      " 1. 1. 0. 1. 0. 1. 1. 0. 1. 1. 1. 1. 1. 0. 0. 1. 1. 1. 1. 1. 1. 1. 1.]\n",
      "train accuracy : 0.9882629107981221\n",
      "test accuracy : 0.9440559440559441\n"
     ]
    }
   ],
   "source": [
    "print(\"prediction :\", gb.predict(x1_test))\n",
    "print(\"train accuracy :\", gb.score(x1_train, y1_train))\n",
    "print(\"test accuracy :\", gb.score(x1_test, y1_test))"
   ]
  },
  {
   "cell_type": "code",
   "execution_count": 30,
   "metadata": {
    "colab": {
     "base_uri": "https://localhost:8080/",
     "height": 179
    },
    "colab_type": "code",
    "executionInfo": {
     "elapsed": 774,
     "status": "ok",
     "timestamp": 1589508053560,
     "user": {
      "displayName": "Han Byeol Jo",
      "photoUrl": "https://lh4.googleusercontent.com/-zVUOAZJynk4/AAAAAAAAAAI/AAAAAAAAAGA/LreMZTXPkDE/s64/photo.jpg",
      "userId": "06956541013026466486"
     },
     "user_tz": -540
    },
    "id": "F5msAEaWD1ZW",
    "outputId": "f1d6239b-faf0-4747-8989-625aedd271d9"
   },
   "outputs": [
    {
     "name": "stdout",
     "output_type": "stream",
     "text": [
      "prediction : [1. 0. 1. 1. 0. 0. 0. 0. 0. 1. 1. 1. 0. 0. 1. 1. 0. 0. 1. 1. 0. 0. 1. 1.\n",
      " 1. 1. 1. 1. 1. 0. 1. 1. 1. 1. 1. 1. 1. 1. 0. 1. 0. 1. 0. 1. 0. 1. 0. 1.\n",
      " 0. 1. 1. 1. 1. 0. 1. 1. 1. 0. 0. 0. 1. 0. 0. 0. 1. 1. 0. 1. 1. 1. 1. 1.\n",
      " 1. 1. 1. 0. 0. 0. 0. 1. 1. 1. 1. 1. 0. 1. 0. 1. 1. 1. 1. 0. 1. 1. 1. 0.\n",
      " 0. 1. 0. 1. 0. 0. 0. 1. 1. 0. 1. 1. 0. 1. 0. 1. 1. 1. 1. 0. 1. 1. 1. 0.\n",
      " 1. 1. 0. 1. 0. 1. 1. 0. 1. 1. 1. 1. 1. 0. 0. 1. 1. 1. 1. 1. 1. 1. 1.]\n",
      "train accuracy : 0.9929577464788732\n",
      "test accuracy : 0.965034965034965\n"
     ]
    }
   ],
   "source": [
    "gb1 = GradientBoostingClassifier(n_estimators=10, max_depth=5, random_state=0)  # max_depth\n",
    "gb1.fit(x1_train, y1_train)\n",
    "\n",
    "print(\"prediction :\", gb1.predict(x1_test))\n",
    "print(\"train accuracy :\", gb1.score(x1_train, y1_train))\n",
    "print(\"test accuracy :\", gb1.score(x1_test, y1_test))"
   ]
  },
  {
   "cell_type": "markdown",
   "metadata": {
    "colab_type": "text",
    "id": "Nqu8-ClPFXSW"
   },
   "source": [
    "## 6-1. Ada Boost Algorithm"
   ]
  },
  {
   "cell_type": "code",
   "execution_count": 32,
   "metadata": {
    "colab": {
     "base_uri": "https://localhost:8080/",
     "height": 179
    },
    "colab_type": "code",
    "executionInfo": {
     "elapsed": 694,
     "status": "ok",
     "timestamp": 1589508474505,
     "user": {
      "displayName": "Han Byeol Jo",
      "photoUrl": "https://lh4.googleusercontent.com/-zVUOAZJynk4/AAAAAAAAAAI/AAAAAAAAAGA/LreMZTXPkDE/s64/photo.jpg",
      "userId": "06956541013026466486"
     },
     "user_tz": -540
    },
    "id": "lr5xic27FYqn",
    "outputId": "2746b0fb-0e67-4cb1-8684-6f375bd0f9bb"
   },
   "outputs": [
    {
     "data": {
      "text/plain": [
       "AdaBoostClassifier(algorithm='SAMME.R', base_estimator=None, learning_rate=1.0,\n",
       "                   n_estimators=10, random_state=0)"
      ]
     },
     "execution_count": 32,
     "metadata": {},
     "output_type": "execute_result"
    }
   ],
   "source": [
    "ab = AdaBoostClassifier(n_estimators=10, random_state=0)\n",
    "ab.fit(x1_train, y1_train)"
   ]
  },
  {
   "cell_type": "markdown",
   "metadata": {},
   "source": [
    "## 6-2. Accuracy Analysis"
   ]
  },
  {
   "cell_type": "code",
   "execution_count": 33,
   "metadata": {},
   "outputs": [
    {
     "name": "stdout",
     "output_type": "stream",
     "text": [
      "prediction : [1. 0. 0. 1. 1. 0. 0. 0. 0. 1. 1. 1. 0. 0. 1. 1. 0. 0. 1. 1. 0. 0. 1. 1.\n",
      " 1. 1. 1. 1. 1. 0. 1. 1. 1. 1. 1. 1. 1. 1. 0. 1. 0. 1. 0. 0. 0. 1. 0. 1.\n",
      " 0. 1. 1. 1. 1. 0. 1. 1. 1. 0. 0. 0. 1. 0. 1. 0. 1. 1. 0. 1. 1. 1. 1. 1.\n",
      " 1. 1. 1. 0. 0. 0. 0. 1. 1. 1. 1. 1. 0. 1. 0. 1. 1. 1. 1. 0. 0. 1. 1. 0.\n",
      " 0. 1. 0. 1. 0. 0. 0. 1. 1. 0. 1. 1. 0. 1. 0. 1. 1. 1. 1. 0. 1. 1. 0. 0.\n",
      " 1. 1. 0. 1. 0. 1. 1. 0. 1. 1. 1. 1. 1. 0. 0. 1. 1. 1. 1. 1. 1. 1. 1.]\n",
      "train accuracy : 0.9859154929577465\n",
      "test accuracy : 0.9370629370629371\n"
     ]
    }
   ],
   "source": [
    "print(\"prediction :\", ab.predict(x1_test))\n",
    "print(\"train accuracy :\", ab.score(x1_train, y1_train))\n",
    "print(\"test accuracy :\", ab.score(x1_test, y1_test))"
   ]
  },
  {
   "cell_type": "code",
   "execution_count": 35,
   "metadata": {
    "colab": {
     "base_uri": "https://localhost:8080/",
     "height": 1000
    },
    "colab_type": "code",
    "executionInfo": {
     "elapsed": 1160,
     "status": "ok",
     "timestamp": 1589508505132,
     "user": {
      "displayName": "Han Byeol Jo",
      "photoUrl": "https://lh4.googleusercontent.com/-zVUOAZJynk4/AAAAAAAAAAI/AAAAAAAAAGA/LreMZTXPkDE/s64/photo.jpg",
      "userId": "06956541013026466486"
     },
     "user_tz": -540
    },
    "id": "9VFSZFFaFj-O",
    "outputId": "8b34a68a-6556-41c3-be18-5896ff03d681"
   },
   "outputs": [
    {
     "name": "stdout",
     "output_type": "stream",
     "text": [
      "Featuer Importance : [0.         0.         0.         0.         0.         0.\n",
      " 0.         0.         0.         0.         0.03144434 0.\n",
      " 0.         0.         0.         0.         0.         0.\n",
      " 0.         0.         0.01258952 0.         0.76952234 0.\n",
      " 0.         0.01942949 0.16701431 0.         0.        ]\n"
     ]
    },
    {
     "data": {
      "text/plain": [
       "[]"
      ]
     },
     "execution_count": 35,
     "metadata": {},
     "output_type": "execute_result"
    },
    {
     "data": {
      "image/png": "[encoded data removed]",
      "text/plain": [
       "<Figure size 432x288 with 1 Axes>"
      ]
     },
     "metadata": {
      "needs_background": "light"
     },
     "output_type": "display_data"
    }
   ],
   "source": [
    "print(\"Featuer Importance :\", tree.feature_importances_)\n",
    "\n",
    "n_features = x1_train.shape[1]\n",
    "plt.barh(np.arange(n_features), ab.feature_importances_, align=\"center\")\n",
    "plt.yticks(np.arange(n_features), x1_train.columns)\n",
    "plt.plot()"
   ]
  }
 ],
 "metadata": {
  "colab": {
   "authorship_tag": "ABX9TyPhdDcDFsNlWRM+uU4K3TXg",
   "collapsed_sections": [],
   "name": "파이썬머신러닝3_Tree.ipynb",
   "provenance": []
  },
  "kernelspec": {
   "display_name": "Python 3",
   "language": "python",
   "name": "python3"
  },
  "language_info": {
   "codemirror_mode": {
    "name": "ipython",
    "version": 3
   },
   "file_extension": ".py",
   "mimetype": "text/x-python",
   "name": "python",
   "nbconvert_exporter": "python",
   "pygments_lexer": "ipython3",
   "version": "3.7.4"
  }
 },
 "nbformat": 4,
 "nbformat_minor": 1
}
