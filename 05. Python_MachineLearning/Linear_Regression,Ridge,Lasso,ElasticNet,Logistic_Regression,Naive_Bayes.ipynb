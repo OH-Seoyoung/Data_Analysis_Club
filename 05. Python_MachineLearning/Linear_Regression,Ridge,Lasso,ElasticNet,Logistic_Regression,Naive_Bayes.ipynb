{
 "cells": [
  {
   "cell_type": "markdown",
   "metadata": {},
   "source": [
    "# Regression and Classification\n",
    "- Linear regression, Ridge, Lasso, Elastic net, Logistic regression, Naive Nayes Classifier"
   ]
  },
  {
   "cell_type": "markdown",
   "metadata": {},
   "source": [
    "## 1. Import Packages"
   ]
  },
  {
   "cell_type": "code",
   "execution_count": 24,
   "metadata": {},
   "outputs": [],
   "source": [
    "import pandas as pd\n",
    "import numpy as np\n",
    "import matplotlib.pyplot as plt\n",
    "from sklearn.linear_model import LinearRegression\n",
    "from sklearn.model_selection import train_test_split\n",
    "from sklearn.linear_model import Ridge\n",
    "from sklearn.linear_model import Lasso\n",
    "from sklearn.linear_model import ElasticNet\n",
    "from sklearn.linear_model import LogisticRegression\n",
    "from sklearn.naive_bayes import GaussianNB"
   ]
  },
  {
   "cell_type": "markdown",
   "metadata": {},
   "source": [
    "## 2. Load dataset"
   ]
  },
  {
   "cell_type": "code",
   "execution_count": 65,
   "metadata": {
    "scrolled": true
   },
   "outputs": [],
   "source": [
    "dataset1 = pd.read_csv('wave.csv')\n",
    "dataset2 = pd.read_csv('cancer.csv')"
   ]
  },
  {
   "cell_type": "code",
   "execution_count": 66,
   "metadata": {},
   "outputs": [
    {
     "data": {
      "text/html": [
       "<div>\n",
       "<style scoped>\n",
       "    .dataframe tbody tr th:only-of-type {\n",
       "        vertical-align: middle;\n",
       "    }\n",
       "\n",
       "    .dataframe tbody tr th {\n",
       "        vertical-align: top;\n",
       "    }\n",
       "\n",
       "    .dataframe thead th {\n",
       "        text-align: right;\n",
       "    }\n",
       "</style>\n",
       "<table border=\"1\" class=\"dataframe\">\n",
       "  <thead>\n",
       "    <tr style=\"text-align: right;\">\n",
       "      <th></th>\n",
       "      <th>x</th>\n",
       "      <th>y</th>\n",
       "    </tr>\n",
       "  </thead>\n",
       "  <tbody>\n",
       "    <tr>\n",
       "      <td>0</td>\n",
       "      <td>-0.753</td>\n",
       "      <td>-0.448</td>\n",
       "    </tr>\n",
       "    <tr>\n",
       "      <td>1</td>\n",
       "      <td>2.700</td>\n",
       "      <td>0.331</td>\n",
       "    </tr>\n",
       "    <tr>\n",
       "      <td>2</td>\n",
       "      <td>1.390</td>\n",
       "      <td>0.779</td>\n",
       "    </tr>\n",
       "    <tr>\n",
       "      <td>3</td>\n",
       "      <td>0.592</td>\n",
       "      <td>0.035</td>\n",
       "    </tr>\n",
       "    <tr>\n",
       "      <td>4</td>\n",
       "      <td>-2.060</td>\n",
       "      <td>-1.390</td>\n",
       "    </tr>\n",
       "  </tbody>\n",
       "</table>\n",
       "</div>"
      ],
      "text/plain": [
       "       x      y\n",
       "0 -0.753 -0.448\n",
       "1  2.700  0.331\n",
       "2  1.390  0.779\n",
       "3  0.592  0.035\n",
       "4 -2.060 -1.390"
      ]
     },
     "execution_count": 66,
     "metadata": {},
     "output_type": "execute_result"
    }
   ],
   "source": [
    "# Explore dataset\n",
    "dataset1.head()"
   ]
  },
  {
   "cell_type": "code",
   "execution_count": 67,
   "metadata": {},
   "outputs": [
    {
     "data": {
      "text/html": [
       "<div>\n",
       "<style scoped>\n",
       "    .dataframe tbody tr th:only-of-type {\n",
       "        vertical-align: middle;\n",
       "    }\n",
       "\n",
       "    .dataframe tbody tr th {\n",
       "        vertical-align: top;\n",
       "    }\n",
       "\n",
       "    .dataframe thead th {\n",
       "        text-align: right;\n",
       "    }\n",
       "</style>\n",
       "<table border=\"1\" class=\"dataframe\">\n",
       "  <thead>\n",
       "    <tr style=\"text-align: right;\">\n",
       "      <th></th>\n",
       "      <th>mean radius</th>\n",
       "      <th>mean texture</th>\n",
       "      <th>mean perimeter</th>\n",
       "      <th>mean area</th>\n",
       "      <th>mean smoothness</th>\n",
       "      <th>mean compactness</th>\n",
       "      <th>mean concavity</th>\n",
       "      <th>mean concave points</th>\n",
       "      <th>mean symmetry</th>\n",
       "      <th>mean fractal dimension</th>\n",
       "      <th>...</th>\n",
       "      <th>worst texture</th>\n",
       "      <th>worst perimeter</th>\n",
       "      <th>worst area</th>\n",
       "      <th>worst smoothness</th>\n",
       "      <th>worst compactness</th>\n",
       "      <th>worst concavity</th>\n",
       "      <th>worst concave points</th>\n",
       "      <th>worst symmetry</th>\n",
       "      <th>worst fractal dimension</th>\n",
       "      <th>benign</th>\n",
       "    </tr>\n",
       "  </thead>\n",
       "  <tbody>\n",
       "    <tr>\n",
       "      <td>0</td>\n",
       "      <td>18.0</td>\n",
       "      <td>10.4</td>\n",
       "      <td>123.0</td>\n",
       "      <td>1000.0</td>\n",
       "      <td>0.1180</td>\n",
       "      <td>0.2780</td>\n",
       "      <td>0.3000</td>\n",
       "      <td>0.1470</td>\n",
       "      <td>0.242</td>\n",
       "      <td>0.0787</td>\n",
       "      <td>...</td>\n",
       "      <td>17.3</td>\n",
       "      <td>185.0</td>\n",
       "      <td>2020.0</td>\n",
       "      <td>0.162</td>\n",
       "      <td>0.666</td>\n",
       "      <td>0.712</td>\n",
       "      <td>0.265</td>\n",
       "      <td>0.460</td>\n",
       "      <td>0.1190</td>\n",
       "      <td>0.0</td>\n",
       "    </tr>\n",
       "    <tr>\n",
       "      <td>1</td>\n",
       "      <td>20.6</td>\n",
       "      <td>17.8</td>\n",
       "      <td>133.0</td>\n",
       "      <td>1330.0</td>\n",
       "      <td>0.0847</td>\n",
       "      <td>0.0786</td>\n",
       "      <td>0.0869</td>\n",
       "      <td>0.0702</td>\n",
       "      <td>0.181</td>\n",
       "      <td>0.0567</td>\n",
       "      <td>...</td>\n",
       "      <td>23.4</td>\n",
       "      <td>159.0</td>\n",
       "      <td>1960.0</td>\n",
       "      <td>0.124</td>\n",
       "      <td>0.187</td>\n",
       "      <td>0.242</td>\n",
       "      <td>0.186</td>\n",
       "      <td>0.275</td>\n",
       "      <td>0.0890</td>\n",
       "      <td>0.0</td>\n",
       "    </tr>\n",
       "    <tr>\n",
       "      <td>2</td>\n",
       "      <td>19.7</td>\n",
       "      <td>21.3</td>\n",
       "      <td>130.0</td>\n",
       "      <td>1200.0</td>\n",
       "      <td>0.1100</td>\n",
       "      <td>0.1600</td>\n",
       "      <td>0.1970</td>\n",
       "      <td>0.1280</td>\n",
       "      <td>0.207</td>\n",
       "      <td>0.0600</td>\n",
       "      <td>...</td>\n",
       "      <td>25.5</td>\n",
       "      <td>153.0</td>\n",
       "      <td>1710.0</td>\n",
       "      <td>0.144</td>\n",
       "      <td>0.424</td>\n",
       "      <td>0.450</td>\n",
       "      <td>0.243</td>\n",
       "      <td>0.361</td>\n",
       "      <td>0.0876</td>\n",
       "      <td>0.0</td>\n",
       "    </tr>\n",
       "    <tr>\n",
       "      <td>3</td>\n",
       "      <td>11.4</td>\n",
       "      <td>20.4</td>\n",
       "      <td>77.6</td>\n",
       "      <td>386.0</td>\n",
       "      <td>0.1420</td>\n",
       "      <td>0.2840</td>\n",
       "      <td>0.2410</td>\n",
       "      <td>0.1050</td>\n",
       "      <td>0.260</td>\n",
       "      <td>0.0974</td>\n",
       "      <td>...</td>\n",
       "      <td>26.5</td>\n",
       "      <td>98.9</td>\n",
       "      <td>568.0</td>\n",
       "      <td>0.210</td>\n",
       "      <td>0.866</td>\n",
       "      <td>0.687</td>\n",
       "      <td>0.258</td>\n",
       "      <td>0.664</td>\n",
       "      <td>0.1730</td>\n",
       "      <td>0.0</td>\n",
       "    </tr>\n",
       "    <tr>\n",
       "      <td>4</td>\n",
       "      <td>20.3</td>\n",
       "      <td>14.3</td>\n",
       "      <td>135.0</td>\n",
       "      <td>1300.0</td>\n",
       "      <td>0.1000</td>\n",
       "      <td>0.1330</td>\n",
       "      <td>0.1980</td>\n",
       "      <td>0.1040</td>\n",
       "      <td>0.181</td>\n",
       "      <td>0.0588</td>\n",
       "      <td>...</td>\n",
       "      <td>16.7</td>\n",
       "      <td>152.0</td>\n",
       "      <td>1580.0</td>\n",
       "      <td>0.137</td>\n",
       "      <td>0.205</td>\n",
       "      <td>0.400</td>\n",
       "      <td>0.163</td>\n",
       "      <td>0.236</td>\n",
       "      <td>0.0768</td>\n",
       "      <td>0.0</td>\n",
       "    </tr>\n",
       "  </tbody>\n",
       "</table>\n",
       "<p>5 rows × 31 columns</p>\n",
       "</div>"
      ],
      "text/plain": [
       "   mean radius  mean texture  mean perimeter  mean area  mean smoothness  \\\n",
       "0         18.0          10.4           123.0     1000.0           0.1180   \n",
       "1         20.6          17.8           133.0     1330.0           0.0847   \n",
       "2         19.7          21.3           130.0     1200.0           0.1100   \n",
       "3         11.4          20.4            77.6      386.0           0.1420   \n",
       "4         20.3          14.3           135.0     1300.0           0.1000   \n",
       "\n",
       "   mean compactness  mean concavity  mean concave points  mean symmetry  \\\n",
       "0            0.2780          0.3000               0.1470          0.242   \n",
       "1            0.0786          0.0869               0.0702          0.181   \n",
       "2            0.1600          0.1970               0.1280          0.207   \n",
       "3            0.2840          0.2410               0.1050          0.260   \n",
       "4            0.1330          0.1980               0.1040          0.181   \n",
       "\n",
       "   mean fractal dimension  ...  worst texture  worst perimeter  worst area  \\\n",
       "0                  0.0787  ...           17.3            185.0      2020.0   \n",
       "1                  0.0567  ...           23.4            159.0      1960.0   \n",
       "2                  0.0600  ...           25.5            153.0      1710.0   \n",
       "3                  0.0974  ...           26.5             98.9       568.0   \n",
       "4                  0.0588  ...           16.7            152.0      1580.0   \n",
       "\n",
       "   worst smoothness  worst compactness  worst concavity  worst concave points  \\\n",
       "0             0.162              0.666            0.712                 0.265   \n",
       "1             0.124              0.187            0.242                 0.186   \n",
       "2             0.144              0.424            0.450                 0.243   \n",
       "3             0.210              0.866            0.687                 0.258   \n",
       "4             0.137              0.205            0.400                 0.163   \n",
       "\n",
       "   worst symmetry  worst fractal dimension  benign  \n",
       "0           0.460                   0.1190     0.0  \n",
       "1           0.275                   0.0890     0.0  \n",
       "2           0.361                   0.0876     0.0  \n",
       "3           0.664                   0.1730     0.0  \n",
       "4           0.236                   0.0768     0.0  \n",
       "\n",
       "[5 rows x 31 columns]"
      ]
     },
     "execution_count": 67,
     "metadata": {},
     "output_type": "execute_result"
    }
   ],
   "source": [
    "dataset2.head()"
   ]
  },
  {
   "cell_type": "code",
   "execution_count": 68,
   "metadata": {
    "scrolled": true
   },
   "outputs": [
    {
     "name": "stdout",
     "output_type": "stream",
     "text": [
      "The shape of data1 : (40, 2)\n",
      "The shape of data2 : (569, 31)\n"
     ]
    }
   ],
   "source": [
    "print(\"The shape of data1 :\", dataset1.shape)\n",
    "print(\"The shape of data2 :\", dataset2.shape)"
   ]
  },
  {
   "cell_type": "markdown",
   "metadata": {},
   "source": [
    "## 3. Make Dataset"
   ]
  },
  {
   "cell_type": "code",
   "execution_count": 69,
   "metadata": {},
   "outputs": [],
   "source": [
    "X1 = dataset1.iloc[:,0]\n",
    "Y1 = dataset1.iloc[:,1]\n",
    "\n",
    "X2 = dataset2.iloc[:,0:30]\n",
    "Y2 = dataset2.iloc[:,30]"
   ]
  },
  {
   "cell_type": "code",
   "execution_count": 70,
   "metadata": {},
   "outputs": [
    {
     "name": "stdout",
     "output_type": "stream",
     "text": [
      "The shape of X1 : (40,)\n",
      "The shape of Y1 : (40,)\n",
      "The shape of X2 : (569, 30)\n",
      "The shape of Y2 : (569,)\n"
     ]
    }
   ],
   "source": [
    "print(\"The shape of X1 :\", X1.shape)\n",
    "print(\"The shape of Y1 :\", Y1.shape)\n",
    "print(\"The shape of X2 :\", X2.shape)\n",
    "print(\"The shape of Y2 :\", Y2.shape)"
   ]
  },
  {
   "cell_type": "code",
   "execution_count": 71,
   "metadata": {},
   "outputs": [],
   "source": [
    "X1 = X1.values.reshape(-1,1)"
   ]
  },
  {
   "cell_type": "code",
   "execution_count": 77,
   "metadata": {},
   "outputs": [],
   "source": [
    "x1_train, x1_test, y1_train, y1_test = train_test_split(X1, Y1, random_state=0)\n",
    "x2_train,x2_test,y2_train,y2_test=train_test_split(X2, Y2, stratify=Y2, random_state=42)"
   ]
  },
  {
   "cell_type": "markdown",
   "metadata": {},
   "source": [
    "## 4-1. Linear Regression"
   ]
  },
  {
   "cell_type": "code",
   "execution_count": 53,
   "metadata": {},
   "outputs": [],
   "source": [
    "lr = LinearRegression().fit(x1_train,y1_train)"
   ]
  },
  {
   "cell_type": "code",
   "execution_count": 54,
   "metadata": {
    "scrolled": true
   },
   "outputs": [
    {
     "name": "stdout",
     "output_type": "stream",
     "text": [
      "Weight : [0.52468771]\n",
      "Bias : -0.09370435583146063\n"
     ]
    }
   ],
   "source": [
    "print(\"Weight :\", lr.coef_)\n",
    "print(\"Bias :\", lr.intercept_)"
   ]
  },
  {
   "cell_type": "markdown",
   "metadata": {},
   "source": [
    "## 4-2. Accuracy Analysis"
   ]
  },
  {
   "cell_type": "code",
   "execution_count": 55,
   "metadata": {},
   "outputs": [
    {
     "name": "stdout",
     "output_type": "stream",
     "text": [
      "prediction : [-0.749564    0.2583611   0.80351163 -1.17456105 -1.60480497 -1.09061101\n",
      "  0.19697264  1.385915   -0.30777694 -1.52085494]\n",
      "train accuracy : 0.688664719797307\n",
      "test accuracy : 0.6249237531352055\n"
     ]
    }
   ],
   "source": [
    "print(\"prediction :\", lr.predict(x1_test))\n",
    "print(\"train accuracy :\", lr.score(x1_train, y1_train))\n",
    "print(\"test accuracy :\", lr.score(x1_test, y1_test))"
   ]
  },
  {
   "cell_type": "markdown",
   "metadata": {},
   "source": [
    "## 5-1. Ridge Regression"
   ]
  },
  {
   "cell_type": "code",
   "execution_count": 56,
   "metadata": {},
   "outputs": [],
   "source": [
    "rg = Ridge().fit(x1_train,y1_train)"
   ]
  },
  {
   "cell_type": "markdown",
   "metadata": {},
   "source": [
    "## 5-2. Accuracy Analysis"
   ]
  },
  {
   "cell_type": "code",
   "execution_count": 57,
   "metadata": {
    "scrolled": false
   },
   "outputs": [
    {
     "name": "stdout",
     "output_type": "stream",
     "text": [
      "prediction : [-0.74315748  0.25339702  0.79239761 -1.16336005 -1.58875031 -1.08035707\n",
      "  0.1927011   1.36823077 -0.30635431 -1.50574733]\n",
      "train accuracy : 0.6885770766363744\n",
      "test accuracy : 0.6343861369498739\n"
     ]
    }
   ],
   "source": [
    "print(\"prediction :\", rg.predict(x1_test))\n",
    "print(\"train accuracy :\", rg.score(x1_train, y1_train))\n",
    "print(\"test accuracy :\", rg.score(x1_test, y1_test))"
   ]
  },
  {
   "cell_type": "markdown",
   "metadata": {},
   "source": [
    "## 5-3. Find optimum value (alpha)"
   ]
  },
  {
   "cell_type": "code",
   "execution_count": 59,
   "metadata": {},
   "outputs": [
    {
     "data": {
      "image/png": "[encoded data removed]",
      "text/plain": [
       "<Figure size 432x288 with 1 Axes>"
      ]
     },
     "metadata": {
      "needs_background": "light"
     },
     "output_type": "display_data"
    }
   ],
   "source": [
    "train_accuracy = []\n",
    "test_accuracy = []\n",
    "alphas = np.arange(start=0, stop=10, step=0.1) \n",
    "for alpha in alphas:\n",
    "    rg1 = Ridge(alpha=alpha).fit(x1_train,y1_train) \n",
    "    train_accuracy.append(rg1.score(x1_train,y1_train))\n",
    "    test_accuracy.append(rg1.score(x1_test,y1_test))\n",
    "plt.plot(alphas,train_accuracy, label = \"train_accuracy\")\n",
    "plt.plot(alphas,test_accuracy, label = \"test_accuracy\")\n",
    "plt.legend()\n",
    "plt.show()"
   ]
  },
  {
   "cell_type": "markdown",
   "metadata": {},
   "source": [
    "## 6-1. Lasso Regression"
   ]
  },
  {
   "cell_type": "code",
   "execution_count": 60,
   "metadata": {},
   "outputs": [],
   "source": [
    "lasso = Lasso().fit(x1_train, y1_train)"
   ]
  },
  {
   "cell_type": "markdown",
   "metadata": {},
   "source": [
    "## 6-2. Accuracy Analysis"
   ]
  },
  {
   "cell_type": "code",
   "execution_count": 61,
   "metadata": {},
   "outputs": [
    {
     "name": "stdout",
     "output_type": "stream",
     "text": [
      "prediction : [-0.37907958 -0.02870773  0.16079584 -0.52681576 -0.67637585 -0.49763331\n",
      " -0.0500474   0.36324913 -0.22550691 -0.64719339]\n",
      "train accuracy : 0.3955665115456999\n",
      "test accuracy : 0.5525152469712177\n"
     ]
    }
   ],
   "source": [
    "print(\"prediction :\", lasso.predict(x1_test))\n",
    "print(\"train accuracy :\", lasso.score(x1_train, y1_train))\n",
    "print(\"test accuracy :\", lasso.score(x1_test, y1_test))"
   ]
  },
  {
   "cell_type": "code",
   "execution_count": 62,
   "metadata": {},
   "outputs": [
    {
     "name": "stdout",
     "output_type": "stream",
     "text": [
      "train accuracy : 0.685733737714791\n",
      "test accuracy : 0.674429171821751\n"
     ]
    }
   ],
   "source": [
    "# reduce alpha\n",
    "lasso1 = Lasso(alpha=0.1).fit(x1_train,y1_train)\n",
    "print(\"train accuracy :\", lasso1.score(x1_train, y1_train))\n",
    "print(\"test accuracy :\", lasso1.score(x1_test, y1_test))"
   ]
  },
  {
   "cell_type": "markdown",
   "metadata": {},
   "source": [
    "## 7-1. Elastic Net"
   ]
  },
  {
   "cell_type": "code",
   "execution_count": 63,
   "metadata": {},
   "outputs": [],
   "source": [
    "en = ElasticNet(alpha=0.2, l1_ratio=0.2).fit(x1_train,y1_train)"
   ]
  },
  {
   "cell_type": "markdown",
   "metadata": {},
   "source": [
    "## 7-2. Accuracy Analysis"
   ]
  },
  {
   "cell_type": "code",
   "execution_count": 64,
   "metadata": {},
   "outputs": [
    {
     "name": "stdout",
     "output_type": "stream",
     "text": [
      "prediction : [-0.70602687  0.22462647  0.72798348 -1.09844186 -1.49570148 -1.02092779\n",
      "  0.16794431  1.26573737 -0.29810906 -1.41818741]\n",
      "train accuracy : 0.6846171632839229\n",
      "test accuracy : 0.6818018943330972\n"
     ]
    }
   ],
   "source": [
    "print(\"prediction :\", en.predict(x1_test))\n",
    "print(\"train accuracy :\", en.score(x1_train, y1_train))\n",
    "print(\"test accuracy :\", en.score(x1_test, y1_test))"
   ]
  },
  {
   "cell_type": "markdown",
   "metadata": {},
   "source": [
    "## 8-1. Logistic Regression"
   ]
  },
  {
   "cell_type": "code",
   "execution_count": 78,
   "metadata": {
    "scrolled": true
   },
   "outputs": [
    {
     "data": {
      "text/plain": [
       "LogisticRegression(C=1.0, class_weight=None, dual=False, fit_intercept=True,\n",
       "                   intercept_scaling=1, l1_ratio=None, max_iter=100,\n",
       "                   multi_class='warn', n_jobs=None, penalty='l2',\n",
       "                   random_state=None, solver='liblinear', tol=0.0001, verbose=0,\n",
       "                   warm_start=False)"
      ]
     },
     "execution_count": 78,
     "metadata": {},
     "output_type": "execute_result"
    }
   ],
   "source": [
    "lgr = LogisticRegression(solver=\"liblinear\")\n",
    "lgr.fit(x2_train,y2_train)"
   ]
  },
  {
   "cell_type": "markdown",
   "metadata": {},
   "source": [
    "## 8-2. Accuracy Analysis"
   ]
  },
  {
   "cell_type": "code",
   "execution_count": 79,
   "metadata": {
    "scrolled": true
   },
   "outputs": [
    {
     "name": "stdout",
     "output_type": "stream",
     "text": [
      "prediction : [1. 0. 1. 1. 1. 0. 0. 0. 0. 1. 1. 1. 0. 0. 1. 1. 0. 0. 1. 1. 0. 0. 1. 1.\n",
      " 1. 1. 1. 1. 1. 0. 1. 1. 1. 1. 1. 1. 1. 1. 0. 1. 0. 1. 0. 1. 1. 1. 0. 1.\n",
      " 0. 1. 1. 1. 1. 0. 1. 1. 1. 0. 0. 0. 1. 0. 0. 0. 1. 1. 0. 1. 1. 1. 1. 1.\n",
      " 1. 1. 1. 0. 0. 0. 0. 1. 1. 1. 1. 1. 0. 1. 0. 1. 1. 1. 1. 0. 1. 1. 0. 0.\n",
      " 0. 1. 0. 1. 0. 0. 0. 1. 1. 0. 1. 1. 0. 1. 0. 0. 1. 1. 1. 0. 1. 1. 1. 0.\n",
      " 1. 1. 0. 1. 0. 1. 1. 0. 1. 1. 1. 1. 1. 1. 0. 1. 1. 1. 1. 1. 1. 1. 1.]\n",
      "train accuracy : 0.9553990610328639\n",
      "test accuracy : 0.958041958041958\n"
     ]
    }
   ],
   "source": [
    "print(\"prediction :\", lgr.predict(x2_test))\n",
    "print(\"train accuracy :\", lgr.score(x2_train, y2_train))\n",
    "print(\"test accuracy :\", lgr.score(x2_test, y2_test))"
   ]
  },
  {
   "cell_type": "markdown",
   "metadata": {},
   "source": [
    "## 8-3. Regularization"
   ]
  },
  {
   "cell_type": "code",
   "execution_count": 80,
   "metadata": {},
   "outputs": [
    {
     "name": "stdout",
     "output_type": "stream",
     "text": [
      "prediction : [1. 0. 1. 1. 1. 0. 0. 0. 0. 1. 0. 1. 0. 0. 1. 1. 0. 0. 1. 1. 0. 0. 1. 1.\n",
      " 1. 1. 1. 1. 1. 0. 1. 1. 1. 1. 1. 1. 1. 1. 0. 1. 0. 1. 0. 1. 1. 1. 0. 1.\n",
      " 0. 1. 1. 1. 1. 0. 1. 1. 1. 0. 0. 0. 1. 0. 0. 0. 1. 1. 0. 1. 1. 1. 1. 1.\n",
      " 1. 1. 1. 0. 0. 0. 0. 1. 1. 1. 1. 1. 0. 1. 0. 1. 1. 1. 1. 0. 1. 1. 0. 0.\n",
      " 0. 1. 0. 1. 0. 0. 0. 1. 1. 0. 1. 1. 0. 1. 0. 0. 1. 0. 1. 0. 1. 1. 1. 0.\n",
      " 1. 1. 0. 1. 0. 1. 1. 0. 1. 1. 1. 1. 1. 0. 0. 1. 1. 1. 1. 1. 1. 1. 1.]\n",
      "train accuracy : 0.9741784037558685\n",
      "test accuracy : 0.965034965034965\n"
     ]
    }
   ],
   "source": [
    "lgr1 = LogisticRegression(solver=\"liblinear\",C=1000)  # default of C = 0.1\n",
    "lgr1.fit(x2_train,y2_train)\n",
    "print(\"prediction :\", lgr1.predict(x2_test))\n",
    "print(\"train accuracy :\", lgr1.score(x2_train, y2_train))\n",
    "print(\"test accuracy :\", lgr1.score(x2_test, y2_test))"
   ]
  },
  {
   "cell_type": "code",
   "execution_count": 81,
   "metadata": {},
   "outputs": [
    {
     "name": "stdout",
     "output_type": "stream",
     "text": [
      "prediction : [1. 0. 1. 1. 1. 0. 0. 0. 0. 1. 1. 1. 0. 0. 1. 1. 0. 0. 1. 1. 0. 0. 1. 1.\n",
      " 1. 1. 1. 1. 1. 0. 1. 1. 1. 1. 1. 1. 1. 1. 0. 1. 0. 1. 0. 1. 1. 1. 0. 1.\n",
      " 0. 1. 1. 1. 1. 0. 1. 1. 1. 0. 0. 0. 1. 0. 0. 0. 1. 1. 0. 1. 1. 1. 1. 1.\n",
      " 1. 1. 1. 0. 0. 0. 0. 1. 1. 1. 1. 1. 0. 1. 0. 1. 1. 1. 1. 0. 1. 1. 0. 0.\n",
      " 0. 1. 0. 1. 0. 0. 0. 1. 1. 0. 1. 1. 0. 1. 0. 0. 1. 1. 1. 0. 1. 1. 1. 0.\n",
      " 1. 1. 0. 1. 0. 1. 1. 0. 1. 1. 1. 1. 1. 1. 0. 1. 1. 1. 1. 1. 1. 1. 1.]\n",
      "train accuracy : 0.9577464788732394\n",
      "test accuracy : 0.958041958041958\n"
     ]
    }
   ],
   "source": [
    "#규제바꾸기\n",
    "lgr2 = LogisticRegression(solver=\"liblinear\",penalty=\"l1\")  # L1\n",
    "lgr2.fit(x2_train,y2_train)\n",
    "print(\"prediction :\", lgr2.predict(x2_test))\n",
    "print(\"train accuracy :\", lgr2.score(x2_train, y2_train))\n",
    "print(\"test accuracy :\", lgr2.score(x2_test, y2_test))"
   ]
  },
  {
   "cell_type": "code",
   "execution_count": 82,
   "metadata": {},
   "outputs": [
    {
     "name": "stdout",
     "output_type": "stream",
     "text": [
      "prediction : [1. 0. 1. 1. 1. 0. 0. 0. 0. 1. 1. 1. 0. 0. 1. 1. 0. 0. 1. 1. 0. 0. 1. 1.\n",
      " 1. 1. 1. 1. 1. 0. 1. 1. 1. 1. 1. 1. 1. 1. 0. 1. 0. 1. 0. 1. 1. 1. 0. 1.\n",
      " 0. 1. 1. 1. 1. 0. 1. 1. 1. 0. 0. 0. 1. 0. 0. 0. 1. 1. 0. 1. 1. 1. 1. 1.\n",
      " 1. 1. 1. 0. 0. 0. 0. 1. 1. 1. 1. 1. 0. 1. 0. 1. 1. 1. 1. 0. 1. 1. 0. 0.\n",
      " 0. 1. 0. 1. 0. 0. 0. 1. 1. 0. 1. 1. 0. 1. 0. 0. 1. 1. 1. 0. 1. 1. 1. 0.\n",
      " 1. 1. 0. 1. 0. 1. 1. 0. 1. 1. 1. 1. 1. 1. 0. 1. 1. 1. 1. 1. 1. 1. 1.]\n",
      "train accuracy : 0.9553990610328639\n",
      "test accuracy : 0.958041958041958\n"
     ]
    }
   ],
   "source": [
    "#규제바꾸기\n",
    "lgr3 = LogisticRegression(solver=\"liblinear\",penalty=\"l2\")  # L2\n",
    "lgr3.fit(x2_train,y2_train)\n",
    "print(\"prediction :\", lgr3.predict(x2_test))\n",
    "print(\"train accuracy :\", lgr3.score(x2_train, y2_train))\n",
    "print(\"test accuracy :\", lgr3.score(x2_test, y2_test))"
   ]
  },
  {
   "cell_type": "markdown",
   "metadata": {},
   "source": [
    "## 9-1. Naive Nayes Classifier"
   ]
  },
  {
   "cell_type": "code",
   "execution_count": 83,
   "metadata": {},
   "outputs": [],
   "source": [
    "nb = GaussianNB().fit(x2_train,y2_train)"
   ]
  },
  {
   "cell_type": "markdown",
   "metadata": {},
   "source": [
    "## 9-2. Accuracy Analysis"
   ]
  },
  {
   "cell_type": "code",
   "execution_count": 84,
   "metadata": {},
   "outputs": [
    {
     "name": "stdout",
     "output_type": "stream",
     "text": [
      "prediction : [1. 0. 1. 1. 1. 0. 0. 0. 0. 1. 1. 1. 0. 0. 1. 1. 0. 0. 1. 1. 0. 0. 1. 1.\n",
      " 1. 1. 1. 1. 1. 0. 1. 0. 1. 1. 1. 1. 1. 1. 0. 1. 0. 1. 0. 1. 1. 1. 1. 1.\n",
      " 0. 1. 1. 1. 1. 0. 1. 1. 1. 0. 0. 0. 1. 0. 1. 0. 1. 1. 0. 1. 1. 1. 1. 1.\n",
      " 1. 1. 1. 0. 0. 0. 0. 1. 1. 1. 1. 1. 0. 1. 0. 1. 0. 1. 1. 0. 1. 1. 1. 0.\n",
      " 0. 1. 0. 1. 0. 0. 0. 1. 1. 0. 1. 1. 0. 1. 0. 1. 1. 1. 1. 0. 1. 1. 1. 0.\n",
      " 1. 1. 0. 1. 0. 1. 1. 0. 1. 1. 1. 1. 1. 0. 0. 1. 1. 1. 1. 1. 1. 1. 1.]\n",
      "train accuracy : 0.9460093896713615\n",
      "test accuracy : 0.9370629370629371\n"
     ]
    }
   ],
   "source": [
    "print(\"prediction :\", nb.predict(x2_test))\n",
    "print(\"train accuracy :\", nb.score(x2_train, y2_train))\n",
    "print(\"test accuracy :\", nb.score(x2_test, y2_test))"
   ]
  }
 ],
 "metadata": {
  "kernelspec": {
   "display_name": "Python 3",
   "language": "python",
   "name": "python3"
  },
  "language_info": {
   "codemirror_mode": {
    "name": "ipython",
    "version": 3
   },
   "file_extension": ".py",
   "mimetype": "text/x-python",
   "name": "python",
   "nbconvert_exporter": "python",
   "pygments_lexer": "ipython3",
   "version": "3.7.4"
  }
 },
 "nbformat": 4,
 "nbformat_minor": 2
}
