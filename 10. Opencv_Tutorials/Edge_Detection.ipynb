{
 "cells": [
  {
   "cell_type": "code",
   "execution_count": null,
   "metadata": {},
   "outputs": [],
   "source": [
    "import numpy as np\n",
    "import cv2"
   ]
  },
  {
   "cell_type": "code",
   "execution_count": 2,
   "metadata": {},
   "outputs": [],
   "source": [
    "def sobel_derivative():\n",
    "    src = cv2.imread('lenna.bmp', cv2.IMREAD_GRAYSCALE)\n",
    "\n",
    "    if src is None:\n",
    "        print('Image load failed!')\n",
    "        return\n",
    "\n",
    "    mx = np.array([[-1, 0, 1],\n",
    "                   [-2, 0, 2],\n",
    "                   [-1, 0, 1]], dtype=np.float32)\n",
    "    my = np.array([[-1, -2, -1],\n",
    "                   [0, 0, 0],\n",
    "                   [1, 2, 1]], dtype=np.float32)\n",
    "\n",
    "    dx = cv2.filter2D(src, -1, mx, delta=128)\n",
    "    dy = cv2.filter2D(src, -1, my, delta=128)\n",
    "\n",
    "    cv2.imshow('src', src)\n",
    "    cv2.imshow('dx', dx)\n",
    "    cv2.imshow('dy', dy)\n",
    "    cv2.waitKey()\n",
    "    cv2.destroyAllWindows()"
   ]
  },
  {
   "cell_type": "code",
   "execution_count": 6,
   "metadata": {},
   "outputs": [],
   "source": [
    "if __name__ == '__main__':\n",
    "    sobel_derivative()"
   ]
  },
  {
   "cell_type": "code",
   "execution_count": 3,
   "metadata": {},
   "outputs": [],
   "source": [
    "def sobel_edge():\n",
    "    src = cv2.imread('lenna.bmp', cv2.IMREAD_GRAYSCALE)\n",
    "\n",
    "    if src is None:\n",
    "        print('Image load failed!')\n",
    "        return\n",
    "\n",
    "    dx = cv2.Sobel(src, cv2.CV_32F, 1, 0)\n",
    "    dy = cv2.Sobel(src, cv2.CV_32F, 0, 1)\n",
    "\n",
    "    fmag = cv2.magnitude(dx, dy)\n",
    "    mag = np.uint8(np.clip(fmag, 0, 255))\n",
    "    _, edge = cv2.threshold(mag, 150, 255, cv2.THRESH_BINARY)\n",
    "\n",
    "    cv2.imshow('src', src)\n",
    "    cv2.imshow('mag', mag)\n",
    "    cv2.imshow('edge', edge)\n",
    "    cv2.waitKey()\n",
    "    cv2.destroyAllWindows()"
   ]
  },
  {
   "cell_type": "code",
   "execution_count": null,
   "metadata": {},
   "outputs": [],
   "source": [
    "if __name__ == '__main__':\n",
    "    sobel_edge()"
   ]
  },
  {
   "cell_type": "code",
   "execution_count": null,
   "metadata": {},
   "outputs": [],
   "source": [
    "def canny_edge():\n",
    "    src = cv2.imread('lenna.bmp', cv2.IMREAD_GRAYSCALE)\n",
    "\n",
    "    if src is None:\n",
    "        print('Image load failed!')\n",
    "        return\n",
    "\n",
    "    dst1 = cv2.Canny(src, 50, 100)\n",
    "    dst2 = cv2.Canny(src, 50, 150)\n",
    "\n",
    "    cv2.imshow('src', src)\n",
    "    cv2.imshow('dst1', dst1)\n",
    "    cv2.imshow('dst2', dst2)\n",
    "    cv2.waitKey()\n",
    "    cv2.destroyAllWindows()"
   ]
  },
  {
   "cell_type": "code",
   "execution_count": null,
   "metadata": {},
   "outputs": [],
   "source": [
    "if __name__ == '__main__':\n",
    "    canny_edge()"
   ]
  }
 ],
 "metadata": {
  "kernelspec": {
   "display_name": "Python 3",
   "language": "python",
   "name": "python3"
  },
  "language_info": {
   "codemirror_mode": {
    "name": "ipython",
    "version": 3
   },
   "file_extension": ".py",
   "mimetype": "text/x-python",
   "name": "python",
   "nbconvert_exporter": "python",
   "pygments_lexer": "ipython3",
   "version": "3.8.5"
  }
 },
 "nbformat": 4,
 "nbformat_minor": 4
}
