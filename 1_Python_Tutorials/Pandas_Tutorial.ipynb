{
 "cells": [
  {
   "cell_type": "markdown",
   "metadata": {},
   "source": [
    "# Pandas Tutorial\n",
    "- 2020.01.28"
   ]
  },
  {
   "cell_type": "code",
   "execution_count": 43,
   "metadata": {},
   "outputs": [],
   "source": [
    "# Import Package\n",
    "import pandas as pd"
   ]
  },
  {
   "cell_type": "code",
   "execution_count": 44,
   "metadata": {},
   "outputs": [
    {
     "name": "stdout",
     "output_type": "stream",
     "text": [
      "0    4\n",
      "1    5\n",
      "2   -2\n",
      "3    8\n",
      "dtype: int64\n"
     ]
    }
   ],
   "source": [
    "a = pd.Series([4, 5, -2, 8]) \n",
    "print(a)"
   ]
  },
  {
   "cell_type": "code",
   "execution_count": 45,
   "metadata": {},
   "outputs": [
    {
     "data": {
      "text/plain": [
       "array([ 4,  5, -2,  8], dtype=int64)"
      ]
     },
     "execution_count": 45,
     "metadata": {},
     "output_type": "execute_result"
    }
   ],
   "source": [
    "a.values"
   ]
  },
  {
   "cell_type": "code",
   "execution_count": 46,
   "metadata": {},
   "outputs": [
    {
     "data": {
      "text/plain": [
       "RangeIndex(start=0, stop=4, step=1)"
      ]
     },
     "execution_count": 46,
     "metadata": {},
     "output_type": "execute_result"
    }
   ],
   "source": [
    "a.index"
   ]
  },
  {
   "cell_type": "code",
   "execution_count": 47,
   "metadata": {},
   "outputs": [
    {
     "name": "stdout",
     "output_type": "stream",
     "text": [
      "a      개\n",
      "b    고양이\n",
      "c     토끼\n",
      "dtype: object\n"
     ]
    }
   ],
   "source": [
    "array1 = pd.Series( [ '개' , '고양이' , '토끼' ] , index = ['a' , 'b' , 'c'] )\n",
    "print(array1)"
   ]
  },
  {
   "cell_type": "code",
   "execution_count": 48,
   "metadata": {},
   "outputs": [
    {
     "name": "stdout",
     "output_type": "stream",
     "text": [
      "고양이\n"
     ]
    }
   ],
   "source": [
    "print(array1['b'])"
   ]
  },
  {
   "cell_type": "code",
   "execution_count": 49,
   "metadata": {},
   "outputs": [
    {
     "name": "stdout",
     "output_type": "stream",
     "text": [
      "고양이\n"
     ]
    }
   ],
   "source": [
    "print(array1[1])"
   ]
  },
  {
   "cell_type": "code",
   "execution_count": 50,
   "metadata": {},
   "outputs": [],
   "source": [
    "array2 = pd.Series( [ 'dog' , 'cat' , 'rabbit' ] , index = [ 'a' , 'b' , 'c' ] )"
   ]
  },
  {
   "cell_type": "code",
   "execution_count": 51,
   "metadata": {},
   "outputs": [
    {
     "name": "stdout",
     "output_type": "stream",
     "text": [
      "   kor     eng\n",
      "a    개     dog\n",
      "b  고양이     cat\n",
      "c   토끼  rabbit\n"
     ]
    }
   ],
   "source": [
    "summary = pd.DataFrame({\n",
    "    'kor' : array1,\n",
    "    'eng' : array2\n",
    "})\n",
    "print(summary)"
   ]
  },
  {
   "cell_type": "code",
   "execution_count": 52,
   "metadata": {},
   "outputs": [
    {
     "name": "stdout",
     "output_type": "stream",
     "text": [
      "   kor     eng  num1  num2\n",
      "a    개     dog     1     4\n",
      "b  고양이     cat     2     5\n",
      "c   토끼  rabbit     3     6\n"
     ]
    }
   ],
   "source": [
    "array3 = pd.Series( [ 1 , 2 , 3 ] , index = [ 'a' , 'b' , 'c' ])\n",
    "array4 = pd.Series( [ 4 , 5 , 6 ] , index = [ 'a' , 'b' , 'c' ])\n",
    "summary = pd.DataFrame({\n",
    "    'kor' : array1,\n",
    "    'eng' : array2,\n",
    "    'num1' : array3,\n",
    "    'num2' : array4\n",
    "})\n",
    "print(summary)"
   ]
  },
  {
   "cell_type": "code",
   "execution_count": 53,
   "metadata": {},
   "outputs": [
    {
     "name": "stdout",
     "output_type": "stream",
     "text": [
      "   kor     eng  num1  num2  sum\n",
      "a    개     dog     1     4    5\n",
      "b  고양이     cat     2     5    7\n",
      "c   토끼  rabbit     3     6    9\n"
     ]
    }
   ],
   "source": [
    "sum = summary[ 'num1' ] + summary[ 'num2' ]\n",
    "summary[ 'sum' ] = sum\n",
    "print(summary)"
   ]
  },
  {
   "cell_type": "code",
   "execution_count": 54,
   "metadata": {},
   "outputs": [],
   "source": [
    "del summary['num1']"
   ]
  },
  {
   "cell_type": "code",
   "execution_count": 56,
   "metadata": {},
   "outputs": [],
   "source": [
    "del summary['num2']"
   ]
  },
  {
   "cell_type": "code",
   "execution_count": 57,
   "metadata": {},
   "outputs": [
    {
     "name": "stdout",
     "output_type": "stream",
     "text": [
      "   kor     eng  sum\n",
      "a    개     dog    5\n",
      "b  고양이     cat    7\n",
      "c   토끼  rabbit    9\n"
     ]
    }
   ],
   "source": [
    "print(summary)"
   ]
  },
  {
   "cell_type": "code",
   "execution_count": 58,
   "metadata": {},
   "outputs": [
    {
     "name": "stdout",
     "output_type": "stream",
     "text": [
      "   sum\n",
      "b    7\n",
      "c    9\n"
     ]
    }
   ],
   "source": [
    "print( summary.loc[ 'b' : 'c'  , 'sum' : ])"
   ]
  },
  {
   "cell_type": "code",
   "execution_count": 59,
   "metadata": {},
   "outputs": [
    {
     "name": "stdout",
     "output_type": "stream",
     "text": [
      "   sum\n",
      "b    7\n",
      "c    9\n"
     ]
    }
   ],
   "source": [
    "print( summary.iloc[ 1:3 , 2 : ] )"
   ]
  },
  {
   "cell_type": "code",
   "execution_count": 69,
   "metadata": {},
   "outputs": [
    {
     "name": "stdout",
     "output_type": "stream",
     "text": [
      "0    0\n",
      "1    5\n",
      "2    2\n",
      "3    5\n",
      "4    2\n",
      "5    0\n",
      "6    5\n",
      "7    0\n",
      "8    4\n",
      "9    1\n",
      "dtype: int32\n"
     ]
    }
   ],
   "source": [
    "import numpy as np\n",
    "s = pd.Series(np.random.randint(0,6,10))\n",
    "print(s)"
   ]
  },
  {
   "cell_type": "code",
   "execution_count": 70,
   "metadata": {},
   "outputs": [
    {
     "data": {
      "text/plain": [
       "0    0\n",
       "5    0\n",
       "7    0\n",
       "9    1\n",
       "2    2\n",
       "4    2\n",
       "8    4\n",
       "1    5\n",
       "3    5\n",
       "6    5\n",
       "dtype: int32"
      ]
     },
     "execution_count": 70,
     "metadata": {},
     "output_type": "execute_result"
    }
   ],
   "source": [
    "s.sort_values(ascending = True)"
   ]
  }
 ],
 "metadata": {
  "kernelspec": {
   "display_name": "Python 3",
   "language": "python",
   "name": "python3"
  },
  "language_info": {
   "codemirror_mode": {
    "name": "ipython",
    "version": 3
   },
   "file_extension": ".py",
   "mimetype": "text/x-python",
   "name": "python",
   "nbconvert_exporter": "python",
   "pygments_lexer": "ipython3",
   "version": "3.7.4"
  }
 },
 "nbformat": 4,
 "nbformat_minor": 2
}
