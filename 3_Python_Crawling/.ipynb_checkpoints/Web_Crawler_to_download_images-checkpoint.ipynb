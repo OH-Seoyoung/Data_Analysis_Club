{
 "cells": [
  {
   "cell_type": "markdown",
   "metadata": {},
   "source": [
    "# Web Crawler to download images\n",
    "- 20200402\n",
    "\n",
    "## 1) Import Packages"
   ]
  },
  {
   "cell_type": "code",
   "execution_count": 1,
   "metadata": {},
   "outputs": [],
   "source": [
    "from bs4 import BeautifulSoup\n",
    "from selenium import webdriver\n",
    "import urllib.request\n",
    "import urllib\n",
    "import time\n",
    "import sys\n",
    "import re\n",
    "import math\n",
    "import os\n",
    "import random"
   ]
  },
  {
   "cell_type": "markdown",
   "metadata": {},
   "source": [
    "## 2) Set a storage path"
   ]
  },
  {
   "cell_type": "code",
   "execution_count": 2,
   "metadata": {},
   "outputs": [
    {
     "name": "stdout",
     "output_type": "stream",
     "text": [
      " storage folder :  C:\\Users\\eilee\\Desktop\\\n"
     ]
    }
   ],
   "source": [
    "f_dir = input(' storage folder :  ')\n",
    "query_txt = 'Save Pictures'\n",
    "\n",
    "# Create a storage folder\n",
    "now = time.localtime()\n",
    "s = '%04d-%02d-%02d-%02d-%02d-%02d' % (now.tm_year, now.tm_mon, now.tm_mday, now.tm_hour, now.tm_min, now.tm_sec)\n",
    "\n",
    "os.chdir(f_dir)\n",
    "os.makedirs(f_dir+s+'-'+query_txt)\n",
    "os.chdir(f_dir+s+'-'+query_txt)\n",
    "f_result_dir = f_dir+s+'-'+query_txt"
   ]
  },
  {
   "cell_type": "markdown",
   "metadata": {},
   "source": [
    "## 3) Launch a Web browser with chrome driver"
   ]
  },
  {
   "cell_type": "code",
   "execution_count": 11,
   "metadata": {},
   "outputs": [],
   "source": [
    "path = \"C:/Temp/chromedriver_win32/chromedriver.exe\"\n",
    "driver = webdriver.Chrome(path)\n",
    "\n",
    "s_time = time.time( ) \n",
    "\n",
    "driver.get(\"https://korean.visitkorea.or.kr/detail/rem_detail.do?cotid=05dff183-5cdd-4b5b-883c-427138796f7f&con_type=11200&temp=\")\n",
    "time.sleep(2)  "
   ]
  },
  {
   "cell_type": "markdown",
   "metadata": {},
   "source": [
    "## 4) Scroll down"
   ]
  },
  {
   "cell_type": "code",
   "execution_count": 12,
   "metadata": {},
   "outputs": [],
   "source": [
    "def scroll_down(driver):\n",
    "    driver.execute_script(\"window.scrollTo(0,document.body.scrollHeight);\")\n",
    "    time.sleep(1)\n",
    "    \n",
    "scroll_down(driver) "
   ]
  },
  {
   "cell_type": "markdown",
   "metadata": {},
   "source": [
    "## 5) Crawling"
   ]
  },
  {
   "cell_type": "code",
   "execution_count": 13,
   "metadata": {
    "scrolled": true
   },
   "outputs": [
    {
     "name": "stdout",
     "output_type": "stream",
     "text": [
      "Storaging 1 th image \n",
      "Storaging 2 th image \n",
      "Storaging 3 th image \n",
      "Storaging 4 th image \n",
      "Storaging 5 th image \n",
      "Storaging 6 th image \n",
      "Storaging 7 th image \n",
      "Storaging 8 th image \n",
      "Storaging 9 th image \n",
      "Storaging 10 th image \n",
      "Storaging 11 th image \n"
     ]
    }
   ],
   "source": [
    "file_no = 0                                \n",
    "count = 1\n",
    "img_src2 = []\n",
    "\n",
    "html = driver.page_source\n",
    "soup = BeautifulSoup(html, 'html.parser')\n",
    "img_src = soup.find('div','box_txtPhoto').find_all('img')\n",
    "\n",
    "for i in img_src :\n",
    "        img_src1=i['src']\n",
    "        img_src2.append(img_src1)\n",
    "        count += 1\n",
    "\n",
    "for i in range(0,len(img_src2)) :\n",
    "        try :\n",
    "                urllib.request.urlretrieve(img_src2[i],str(file_no)+'.jpg')\n",
    "        except :\n",
    "                continue        \n",
    "        file_no += 1                \n",
    "        time.sleep(0.5)      \n",
    "        print(\"Storaging %s th image \" %file_no)"
   ]
  },
  {
   "cell_type": "markdown",
   "metadata": {},
   "source": [
    "## 6) Summary"
   ]
  },
  {
   "cell_type": "code",
   "execution_count": 14,
   "metadata": {},
   "outputs": [
    {
     "name": "stdout",
     "output_type": "stream",
     "text": [
      "# images : 11\n",
      "path : C:\\Users\\eilee\\Desktop\\2020-05-06-02-16-21-Save Pictures\n"
     ]
    }
   ],
   "source": [
    "store_cnt = file_no -1\n",
    "\n",
    "print(\"# images : %s\" %file_no)\n",
    "print(\"path : %s\" %f_result_dir)\n",
    "\n",
    "driver.close( )"
   ]
  }
 ],
 "metadata": {
  "kernelspec": {
   "display_name": "Python 3",
   "language": "python",
   "name": "python3"
  },
  "language_info": {
   "codemirror_mode": {
    "name": "ipython",
    "version": 3
   },
   "file_extension": ".py",
   "mimetype": "text/x-python",
   "name": "python",
   "nbconvert_exporter": "python",
   "pygments_lexer": "ipython3",
   "version": "3.7.4"
  }
 },
 "nbformat": 4,
 "nbformat_minor": 2
}
