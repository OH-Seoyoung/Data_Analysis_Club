{
 "cells": [
  {
   "cell_type": "markdown",
   "metadata": {},
   "source": [
    "# SVM classification with Cancer datasset\n",
    "- 2020.05.15"
   ]
  },
  {
   "cell_type": "markdown",
   "metadata": {},
   "source": [
    "## 1. import packages"
   ]
  },
  {
   "cell_type": "code",
   "execution_count": 16,
   "metadata": {},
   "outputs": [],
   "source": [
    "import pandas as pd\n",
    "from sklearn.model_selection import train_test_split\n",
    "from sklearn.svm import SVC"
   ]
  },
  {
   "cell_type": "markdown",
   "metadata": {},
   "source": [
    "## 2. Load dataset"
   ]
  },
  {
   "cell_type": "code",
   "execution_count": 8,
   "metadata": {
    "scrolled": true
   },
   "outputs": [
    {
     "data": {
      "text/html": [
       "<div>\n",
       "<style scoped>\n",
       "    .dataframe tbody tr th:only-of-type {\n",
       "        vertical-align: middle;\n",
       "    }\n",
       "\n",
       "    .dataframe tbody tr th {\n",
       "        vertical-align: top;\n",
       "    }\n",
       "\n",
       "    .dataframe thead th {\n",
       "        text-align: right;\n",
       "    }\n",
       "</style>\n",
       "<table border=\"1\" class=\"dataframe\">\n",
       "  <thead>\n",
       "    <tr style=\"text-align: right;\">\n",
       "      <th></th>\n",
       "      <th>mean radius</th>\n",
       "      <th>mean texture</th>\n",
       "      <th>mean perimeter</th>\n",
       "      <th>mean area</th>\n",
       "      <th>mean smoothness</th>\n",
       "      <th>mean compactness</th>\n",
       "      <th>mean concavity</th>\n",
       "      <th>mean concave points</th>\n",
       "      <th>mean symmetry</th>\n",
       "      <th>mean fractal dimension</th>\n",
       "      <th>...</th>\n",
       "      <th>worst texture</th>\n",
       "      <th>worst perimeter</th>\n",
       "      <th>worst area</th>\n",
       "      <th>worst smoothness</th>\n",
       "      <th>worst compactness</th>\n",
       "      <th>worst concavity</th>\n",
       "      <th>worst concave points</th>\n",
       "      <th>worst symmetry</th>\n",
       "      <th>worst fractal dimension</th>\n",
       "      <th>benign</th>\n",
       "    </tr>\n",
       "  </thead>\n",
       "  <tbody>\n",
       "    <tr>\n",
       "      <th>0</th>\n",
       "      <td>18.0</td>\n",
       "      <td>10.4</td>\n",
       "      <td>123.0</td>\n",
       "      <td>1000.0</td>\n",
       "      <td>0.1180</td>\n",
       "      <td>0.2780</td>\n",
       "      <td>0.3000</td>\n",
       "      <td>0.1470</td>\n",
       "      <td>0.242</td>\n",
       "      <td>0.0787</td>\n",
       "      <td>...</td>\n",
       "      <td>17.3</td>\n",
       "      <td>185.0</td>\n",
       "      <td>2020.0</td>\n",
       "      <td>0.162</td>\n",
       "      <td>0.666</td>\n",
       "      <td>0.712</td>\n",
       "      <td>0.265</td>\n",
       "      <td>0.460</td>\n",
       "      <td>0.1190</td>\n",
       "      <td>0.0</td>\n",
       "    </tr>\n",
       "    <tr>\n",
       "      <th>1</th>\n",
       "      <td>20.6</td>\n",
       "      <td>17.8</td>\n",
       "      <td>133.0</td>\n",
       "      <td>1330.0</td>\n",
       "      <td>0.0847</td>\n",
       "      <td>0.0786</td>\n",
       "      <td>0.0869</td>\n",
       "      <td>0.0702</td>\n",
       "      <td>0.181</td>\n",
       "      <td>0.0567</td>\n",
       "      <td>...</td>\n",
       "      <td>23.4</td>\n",
       "      <td>159.0</td>\n",
       "      <td>1960.0</td>\n",
       "      <td>0.124</td>\n",
       "      <td>0.187</td>\n",
       "      <td>0.242</td>\n",
       "      <td>0.186</td>\n",
       "      <td>0.275</td>\n",
       "      <td>0.0890</td>\n",
       "      <td>0.0</td>\n",
       "    </tr>\n",
       "    <tr>\n",
       "      <th>2</th>\n",
       "      <td>19.7</td>\n",
       "      <td>21.3</td>\n",
       "      <td>130.0</td>\n",
       "      <td>1200.0</td>\n",
       "      <td>0.1100</td>\n",
       "      <td>0.1600</td>\n",
       "      <td>0.1970</td>\n",
       "      <td>0.1280</td>\n",
       "      <td>0.207</td>\n",
       "      <td>0.0600</td>\n",
       "      <td>...</td>\n",
       "      <td>25.5</td>\n",
       "      <td>153.0</td>\n",
       "      <td>1710.0</td>\n",
       "      <td>0.144</td>\n",
       "      <td>0.424</td>\n",
       "      <td>0.450</td>\n",
       "      <td>0.243</td>\n",
       "      <td>0.361</td>\n",
       "      <td>0.0876</td>\n",
       "      <td>0.0</td>\n",
       "    </tr>\n",
       "    <tr>\n",
       "      <th>3</th>\n",
       "      <td>11.4</td>\n",
       "      <td>20.4</td>\n",
       "      <td>77.6</td>\n",
       "      <td>386.0</td>\n",
       "      <td>0.1420</td>\n",
       "      <td>0.2840</td>\n",
       "      <td>0.2410</td>\n",
       "      <td>0.1050</td>\n",
       "      <td>0.260</td>\n",
       "      <td>0.0974</td>\n",
       "      <td>...</td>\n",
       "      <td>26.5</td>\n",
       "      <td>98.9</td>\n",
       "      <td>568.0</td>\n",
       "      <td>0.210</td>\n",
       "      <td>0.866</td>\n",
       "      <td>0.687</td>\n",
       "      <td>0.258</td>\n",
       "      <td>0.664</td>\n",
       "      <td>0.1730</td>\n",
       "      <td>0.0</td>\n",
       "    </tr>\n",
       "    <tr>\n",
       "      <th>4</th>\n",
       "      <td>20.3</td>\n",
       "      <td>14.3</td>\n",
       "      <td>135.0</td>\n",
       "      <td>1300.0</td>\n",
       "      <td>0.1000</td>\n",
       "      <td>0.1330</td>\n",
       "      <td>0.1980</td>\n",
       "      <td>0.1040</td>\n",
       "      <td>0.181</td>\n",
       "      <td>0.0588</td>\n",
       "      <td>...</td>\n",
       "      <td>16.7</td>\n",
       "      <td>152.0</td>\n",
       "      <td>1580.0</td>\n",
       "      <td>0.137</td>\n",
       "      <td>0.205</td>\n",
       "      <td>0.400</td>\n",
       "      <td>0.163</td>\n",
       "      <td>0.236</td>\n",
       "      <td>0.0768</td>\n",
       "      <td>0.0</td>\n",
       "    </tr>\n",
       "  </tbody>\n",
       "</table>\n",
       "<p>5 rows × 31 columns</p>\n",
       "</div>"
      ],
      "text/plain": [
       "   mean radius  mean texture  mean perimeter  mean area  mean smoothness  \\\n",
       "0         18.0          10.4           123.0     1000.0           0.1180   \n",
       "1         20.6          17.8           133.0     1330.0           0.0847   \n",
       "2         19.7          21.3           130.0     1200.0           0.1100   \n",
       "3         11.4          20.4            77.6      386.0           0.1420   \n",
       "4         20.3          14.3           135.0     1300.0           0.1000   \n",
       "\n",
       "   mean compactness  mean concavity  mean concave points  mean symmetry  \\\n",
       "0            0.2780          0.3000               0.1470          0.242   \n",
       "1            0.0786          0.0869               0.0702          0.181   \n",
       "2            0.1600          0.1970               0.1280          0.207   \n",
       "3            0.2840          0.2410               0.1050          0.260   \n",
       "4            0.1330          0.1980               0.1040          0.181   \n",
       "\n",
       "   mean fractal dimension  ...  worst texture  worst perimeter  worst area  \\\n",
       "0                  0.0787  ...           17.3            185.0      2020.0   \n",
       "1                  0.0567  ...           23.4            159.0      1960.0   \n",
       "2                  0.0600  ...           25.5            153.0      1710.0   \n",
       "3                  0.0974  ...           26.5             98.9       568.0   \n",
       "4                  0.0588  ...           16.7            152.0      1580.0   \n",
       "\n",
       "   worst smoothness  worst compactness  worst concavity  worst concave points  \\\n",
       "0             0.162              0.666            0.712                 0.265   \n",
       "1             0.124              0.187            0.242                 0.186   \n",
       "2             0.144              0.424            0.450                 0.243   \n",
       "3             0.210              0.866            0.687                 0.258   \n",
       "4             0.137              0.205            0.400                 0.163   \n",
       "\n",
       "   worst symmetry  worst fractal dimension  benign  \n",
       "0           0.460                   0.1190     0.0  \n",
       "1           0.275                   0.0890     0.0  \n",
       "2           0.361                   0.0876     0.0  \n",
       "3           0.664                   0.1730     0.0  \n",
       "4           0.236                   0.0768     0.0  \n",
       "\n",
       "[5 rows x 31 columns]"
      ]
     },
     "execution_count": 8,
     "metadata": {},
     "output_type": "execute_result"
    }
   ],
   "source": [
    "dataset = pd.read_csv('cancer.csv')\n",
    "\n",
    "# Explore dataset\n",
    "dataset.head()"
   ]
  },
  {
   "cell_type": "code",
   "execution_count": 9,
   "metadata": {},
   "outputs": [
    {
     "name": "stdout",
     "output_type": "stream",
     "text": [
      "The shape of data : (569, 31)\n"
     ]
    }
   ],
   "source": [
    "print(\"The shape of data :\", dataset.shape)"
   ]
  },
  {
   "cell_type": "markdown",
   "metadata": {},
   "source": [
    "## 3. Make Dataset"
   ]
  },
  {
   "cell_type": "code",
   "execution_count": 3,
   "metadata": {},
   "outputs": [],
   "source": [
    "X = dataset.iloc[:, 0:30]\n",
    "Y = dataset.iloc[:, 30]"
   ]
  },
  {
   "cell_type": "code",
   "execution_count": 5,
   "metadata": {},
   "outputs": [
    {
     "data": {
      "text/html": [
       "<div>\n",
       "<style scoped>\n",
       "    .dataframe tbody tr th:only-of-type {\n",
       "        vertical-align: middle;\n",
       "    }\n",
       "\n",
       "    .dataframe tbody tr th {\n",
       "        vertical-align: top;\n",
       "    }\n",
       "\n",
       "    .dataframe thead th {\n",
       "        text-align: right;\n",
       "    }\n",
       "</style>\n",
       "<table border=\"1\" class=\"dataframe\">\n",
       "  <thead>\n",
       "    <tr style=\"text-align: right;\">\n",
       "      <th></th>\n",
       "      <th>mean radius</th>\n",
       "      <th>mean texture</th>\n",
       "      <th>mean perimeter</th>\n",
       "      <th>mean area</th>\n",
       "      <th>mean smoothness</th>\n",
       "      <th>mean compactness</th>\n",
       "      <th>mean concavity</th>\n",
       "      <th>mean concave points</th>\n",
       "      <th>mean symmetry</th>\n",
       "      <th>mean fractal dimension</th>\n",
       "      <th>...</th>\n",
       "      <th>worst radius</th>\n",
       "      <th>worst texture</th>\n",
       "      <th>worst perimeter</th>\n",
       "      <th>worst area</th>\n",
       "      <th>worst smoothness</th>\n",
       "      <th>worst compactness</th>\n",
       "      <th>worst concavity</th>\n",
       "      <th>worst concave points</th>\n",
       "      <th>worst symmetry</th>\n",
       "      <th>worst fractal dimension</th>\n",
       "    </tr>\n",
       "  </thead>\n",
       "  <tbody>\n",
       "    <tr>\n",
       "      <th>0</th>\n",
       "      <td>18.0</td>\n",
       "      <td>10.4</td>\n",
       "      <td>123.0</td>\n",
       "      <td>1000.0</td>\n",
       "      <td>0.1180</td>\n",
       "      <td>0.2780</td>\n",
       "      <td>0.3000</td>\n",
       "      <td>0.1470</td>\n",
       "      <td>0.242</td>\n",
       "      <td>0.0787</td>\n",
       "      <td>...</td>\n",
       "      <td>25.4</td>\n",
       "      <td>17.3</td>\n",
       "      <td>185.0</td>\n",
       "      <td>2020.0</td>\n",
       "      <td>0.162</td>\n",
       "      <td>0.666</td>\n",
       "      <td>0.712</td>\n",
       "      <td>0.265</td>\n",
       "      <td>0.460</td>\n",
       "      <td>0.1190</td>\n",
       "    </tr>\n",
       "    <tr>\n",
       "      <th>1</th>\n",
       "      <td>20.6</td>\n",
       "      <td>17.8</td>\n",
       "      <td>133.0</td>\n",
       "      <td>1330.0</td>\n",
       "      <td>0.0847</td>\n",
       "      <td>0.0786</td>\n",
       "      <td>0.0869</td>\n",
       "      <td>0.0702</td>\n",
       "      <td>0.181</td>\n",
       "      <td>0.0567</td>\n",
       "      <td>...</td>\n",
       "      <td>25.0</td>\n",
       "      <td>23.4</td>\n",
       "      <td>159.0</td>\n",
       "      <td>1960.0</td>\n",
       "      <td>0.124</td>\n",
       "      <td>0.187</td>\n",
       "      <td>0.242</td>\n",
       "      <td>0.186</td>\n",
       "      <td>0.275</td>\n",
       "      <td>0.0890</td>\n",
       "    </tr>\n",
       "    <tr>\n",
       "      <th>2</th>\n",
       "      <td>19.7</td>\n",
       "      <td>21.3</td>\n",
       "      <td>130.0</td>\n",
       "      <td>1200.0</td>\n",
       "      <td>0.1100</td>\n",
       "      <td>0.1600</td>\n",
       "      <td>0.1970</td>\n",
       "      <td>0.1280</td>\n",
       "      <td>0.207</td>\n",
       "      <td>0.0600</td>\n",
       "      <td>...</td>\n",
       "      <td>23.6</td>\n",
       "      <td>25.5</td>\n",
       "      <td>153.0</td>\n",
       "      <td>1710.0</td>\n",
       "      <td>0.144</td>\n",
       "      <td>0.424</td>\n",
       "      <td>0.450</td>\n",
       "      <td>0.243</td>\n",
       "      <td>0.361</td>\n",
       "      <td>0.0876</td>\n",
       "    </tr>\n",
       "    <tr>\n",
       "      <th>3</th>\n",
       "      <td>11.4</td>\n",
       "      <td>20.4</td>\n",
       "      <td>77.6</td>\n",
       "      <td>386.0</td>\n",
       "      <td>0.1420</td>\n",
       "      <td>0.2840</td>\n",
       "      <td>0.2410</td>\n",
       "      <td>0.1050</td>\n",
       "      <td>0.260</td>\n",
       "      <td>0.0974</td>\n",
       "      <td>...</td>\n",
       "      <td>14.9</td>\n",
       "      <td>26.5</td>\n",
       "      <td>98.9</td>\n",
       "      <td>568.0</td>\n",
       "      <td>0.210</td>\n",
       "      <td>0.866</td>\n",
       "      <td>0.687</td>\n",
       "      <td>0.258</td>\n",
       "      <td>0.664</td>\n",
       "      <td>0.1730</td>\n",
       "    </tr>\n",
       "    <tr>\n",
       "      <th>4</th>\n",
       "      <td>20.3</td>\n",
       "      <td>14.3</td>\n",
       "      <td>135.0</td>\n",
       "      <td>1300.0</td>\n",
       "      <td>0.1000</td>\n",
       "      <td>0.1330</td>\n",
       "      <td>0.1980</td>\n",
       "      <td>0.1040</td>\n",
       "      <td>0.181</td>\n",
       "      <td>0.0588</td>\n",
       "      <td>...</td>\n",
       "      <td>22.5</td>\n",
       "      <td>16.7</td>\n",
       "      <td>152.0</td>\n",
       "      <td>1580.0</td>\n",
       "      <td>0.137</td>\n",
       "      <td>0.205</td>\n",
       "      <td>0.400</td>\n",
       "      <td>0.163</td>\n",
       "      <td>0.236</td>\n",
       "      <td>0.0768</td>\n",
       "    </tr>\n",
       "  </tbody>\n",
       "</table>\n",
       "<p>5 rows × 30 columns</p>\n",
       "</div>"
      ],
      "text/plain": [
       "   mean radius  mean texture  mean perimeter  mean area  mean smoothness  \\\n",
       "0         18.0          10.4           123.0     1000.0           0.1180   \n",
       "1         20.6          17.8           133.0     1330.0           0.0847   \n",
       "2         19.7          21.3           130.0     1200.0           0.1100   \n",
       "3         11.4          20.4            77.6      386.0           0.1420   \n",
       "4         20.3          14.3           135.0     1300.0           0.1000   \n",
       "\n",
       "   mean compactness  mean concavity  mean concave points  mean symmetry  \\\n",
       "0            0.2780          0.3000               0.1470          0.242   \n",
       "1            0.0786          0.0869               0.0702          0.181   \n",
       "2            0.1600          0.1970               0.1280          0.207   \n",
       "3            0.2840          0.2410               0.1050          0.260   \n",
       "4            0.1330          0.1980               0.1040          0.181   \n",
       "\n",
       "   mean fractal dimension  ...  worst radius  worst texture  worst perimeter  \\\n",
       "0                  0.0787  ...          25.4           17.3            185.0   \n",
       "1                  0.0567  ...          25.0           23.4            159.0   \n",
       "2                  0.0600  ...          23.6           25.5            153.0   \n",
       "3                  0.0974  ...          14.9           26.5             98.9   \n",
       "4                  0.0588  ...          22.5           16.7            152.0   \n",
       "\n",
       "   worst area  worst smoothness  worst compactness  worst concavity  \\\n",
       "0      2020.0             0.162              0.666            0.712   \n",
       "1      1960.0             0.124              0.187            0.242   \n",
       "2      1710.0             0.144              0.424            0.450   \n",
       "3       568.0             0.210              0.866            0.687   \n",
       "4      1580.0             0.137              0.205            0.400   \n",
       "\n",
       "   worst concave points  worst symmetry  worst fractal dimension  \n",
       "0                 0.265           0.460                   0.1190  \n",
       "1                 0.186           0.275                   0.0890  \n",
       "2                 0.243           0.361                   0.0876  \n",
       "3                 0.258           0.664                   0.1730  \n",
       "4                 0.163           0.236                   0.0768  \n",
       "\n",
       "[5 rows x 30 columns]"
      ]
     },
     "execution_count": 5,
     "metadata": {},
     "output_type": "execute_result"
    }
   ],
   "source": [
    "X.head()"
   ]
  },
  {
   "cell_type": "code",
   "execution_count": 6,
   "metadata": {},
   "outputs": [
    {
     "data": {
      "text/plain": [
       "0    0.0\n",
       "1    0.0\n",
       "2    0.0\n",
       "3    0.0\n",
       "4    0.0\n",
       "Name: benign, dtype: float64"
      ]
     },
     "execution_count": 6,
     "metadata": {},
     "output_type": "execute_result"
    }
   ],
   "source": [
    "Y.head()"
   ]
  },
  {
   "cell_type": "code",
   "execution_count": 10,
   "metadata": {},
   "outputs": [
    {
     "name": "stdout",
     "output_type": "stream",
     "text": [
      "The shape of X : (569, 30)\n",
      "The shape of Y : (569,)\n"
     ]
    }
   ],
   "source": [
    "print(\"The shape of X :\", X.shape)\n",
    "print(\"The shape of Y :\", Y.shape)"
   ]
  },
  {
   "cell_type": "code",
   "execution_count": 12,
   "metadata": {},
   "outputs": [],
   "source": [
    "x_train, x_test, y_train, y_test = train_test_split(X, Y, stratify = Y, random_state = 0)"
   ]
  },
  {
   "cell_type": "code",
   "execution_count": 15,
   "metadata": {},
   "outputs": [
    {
     "name": "stdout",
     "output_type": "stream",
     "text": [
      "(426,)\n",
      "(143,)\n"
     ]
    }
   ],
   "source": [
    "# Check\n",
    "print(y_train.shape)\n",
    "print(y_test.shape)"
   ]
  },
  {
   "cell_type": "markdown",
   "metadata": {},
   "source": [
    "## 4. SVM"
   ]
  },
  {
   "cell_type": "code",
   "execution_count": 17,
   "metadata": {},
   "outputs": [
    {
     "data": {
      "text/plain": [
       "SVC(C=1.0, break_ties=False, cache_size=200, class_weight=None, coef0=0.0,\n",
       "    decision_function_shape='ovr', degree=3, gamma='scale', kernel='rbf',\n",
       "    max_iter=-1, probability=False, random_state=None, shrinking=True,\n",
       "    tol=0.001, verbose=False)"
      ]
     },
     "execution_count": 17,
     "metadata": {},
     "output_type": "execute_result"
    }
   ],
   "source": [
    "svc = SVC()\n",
    "svc.fit(x_train, y_train)"
   ]
  },
  {
   "cell_type": "markdown",
   "metadata": {},
   "source": [
    "## 5. Accuracy Analysis"
   ]
  },
  {
   "cell_type": "code",
   "execution_count": 20,
   "metadata": {},
   "outputs": [
    {
     "name": "stdout",
     "output_type": "stream",
     "text": [
      "prediction : [1. 0. 0. 1. 0. 1. 0. 0. 0. 1. 0. 0. 1. 1. 1. 1. 1. 0. 1. 0. 1. 0. 1. 1.\n",
      " 1. 0. 1. 1. 1. 0. 1. 1. 1. 1. 1. 1. 0. 0. 0. 1. 0. 0. 0. 0. 1. 1. 1. 0.\n",
      " 1. 1. 0. 1. 1. 1. 1. 1. 1. 1. 1. 1. 1. 1. 1. 0. 1. 0. 0. 1. 1. 0. 1. 1.\n",
      " 1. 1. 1. 1. 1. 1. 1. 1. 1. 1. 0. 1. 0. 1. 1. 1. 1. 1. 1. 1. 0. 1. 0. 0.\n",
      " 1. 1. 1. 0. 0. 1. 0. 1. 1. 1. 0. 0. 1. 1. 1. 0. 1. 1. 1. 0. 1. 1. 1. 1.\n",
      " 1. 1. 1. 1. 0. 1. 1. 0. 1. 1. 1. 0. 1. 1. 1. 1. 0. 1. 0. 1. 0. 1. 0.]\n",
      "train accuracy : 0.9225352112676056\n",
      "test accuracy : 0.916083916083916\n"
     ]
    }
   ],
   "source": [
    "print(\"prediction :\", svc.predict(x_test))\n",
    "print(\"train accuracy :\", svc.score(x_train, y_train))\n",
    "print(\"test accuracy :\", svc.score(x_test, y_test))"
   ]
  },
  {
   "cell_type": "markdown",
   "metadata": {},
   "source": [
    "## 6. Underfit? (high bias)"
   ]
  },
  {
   "cell_type": "code",
   "execution_count": 21,
   "metadata": {},
   "outputs": [
    {
     "data": {
      "text/plain": [
       "SVC(C=1000, break_ties=False, cache_size=200, class_weight=None, coef0=0.0,\n",
       "    decision_function_shape='ovr', degree=3, gamma='scale', kernel='rbf',\n",
       "    max_iter=-1, probability=False, random_state=None, shrinking=True,\n",
       "    tol=0.001, verbose=False)"
      ]
     },
     "execution_count": 21,
     "metadata": {},
     "output_type": "execute_result"
    }
   ],
   "source": [
    "svc1 = SVC(C = 1000)  # variance up!\n",
    "svc1.fit(x_train, y_train)"
   ]
  },
  {
   "cell_type": "code",
   "execution_count": 22,
   "metadata": {},
   "outputs": [
    {
     "name": "stdout",
     "output_type": "stream",
     "text": [
      "prediction : [1. 0. 0. 1. 0. 1. 0. 0. 0. 1. 0. 0. 1. 1. 1. 1. 1. 0. 1. 0. 1. 0. 0. 1.\n",
      " 1. 0. 1. 1. 1. 0. 1. 1. 0. 1. 1. 1. 0. 0. 0. 1. 0. 0. 0. 0. 1. 1. 1. 0.\n",
      " 1. 1. 0. 1. 1. 1. 1. 1. 1. 1. 1. 1. 0. 1. 1. 0. 0. 0. 0. 1. 1. 0. 1. 1.\n",
      " 1. 1. 1. 0. 1. 1. 1. 0. 1. 1. 0. 0. 0. 1. 1. 1. 1. 1. 1. 1. 0. 1. 0. 0.\n",
      " 1. 1. 1. 0. 0. 1. 0. 1. 1. 1. 0. 0. 1. 1. 1. 0. 1. 1. 1. 1. 1. 1. 1. 1.\n",
      " 1. 1. 1. 1. 0. 0. 1. 0. 1. 1. 1. 0. 1. 1. 1. 0. 0. 1. 0. 1. 0. 1. 0.]\n",
      "train accuracy : 0.9624413145539906\n",
      "test accuracy : 0.9440559440559441\n"
     ]
    }
   ],
   "source": [
    "print(\"prediction :\", svc1.predict(x_test))\n",
    "print(\"train accuracy :\", svc1.score(x_train, y_train))\n",
    "print(\"test accuracy :\", svc1.score(x_test, y_test))"
   ]
  },
  {
   "cell_type": "code",
   "execution_count": 37,
   "metadata": {},
   "outputs": [
    {
     "data": {
      "text/plain": [
       "SVC(C=1000, break_ties=False, cache_size=200, class_weight=None, coef0=0.0,\n",
       "    decision_function_shape='ovr', degree=3, gamma=1e-05, kernel='rbf',\n",
       "    max_iter=-1, probability=False, random_state=None, shrinking=True,\n",
       "    tol=0.001, verbose=False)"
      ]
     },
     "execution_count": 37,
     "metadata": {},
     "output_type": "execute_result"
    }
   ],
   "source": [
    "svc2 = SVC(C = 1000, gamma = 0.00001)  # variance up!\n",
    "svc2.fit(x_train, y_train)"
   ]
  },
  {
   "cell_type": "code",
   "execution_count": 38,
   "metadata": {},
   "outputs": [
    {
     "name": "stdout",
     "output_type": "stream",
     "text": [
      "prediction : [1. 0. 0. 1. 0. 1. 0. 0. 0. 1. 0. 0. 1. 1. 1. 1. 1. 0. 0. 0. 1. 0. 0. 1.\n",
      " 1. 0. 1. 1. 1. 0. 1. 1. 0. 1. 1. 1. 0. 0. 0. 1. 0. 0. 0. 0. 1. 1. 1. 0.\n",
      " 1. 1. 0. 1. 1. 1. 1. 1. 1. 1. 1. 1. 0. 1. 1. 0. 0. 0. 0. 1. 1. 0. 1. 1.\n",
      " 1. 1. 1. 0. 1. 1. 1. 0. 1. 1. 0. 0. 0. 1. 1. 1. 1. 1. 1. 1. 0. 1. 0. 0.\n",
      " 1. 1. 1. 0. 0. 1. 0. 1. 1. 1. 0. 0. 1. 1. 1. 0. 1. 1. 1. 1. 1. 1. 1. 1.\n",
      " 1. 1. 1. 1. 0. 1. 1. 0. 1. 1. 1. 0. 1. 1. 1. 0. 0. 1. 0. 1. 0. 1. 0.]\n",
      "train accuracy : 0.9835680751173709\n",
      "test accuracy : 0.958041958041958\n"
     ]
    }
   ],
   "source": [
    "print(\"prediction :\", svc2.predict(x_test))\n",
    "print(\"train accuracy :\", svc2.score(x_train, y_train))\n",
    "print(\"test accuracy :\", svc2.score(x_test, y_test))"
   ]
  }
 ],
 "metadata": {
  "kernelspec": {
   "display_name": "Python 3",
   "language": "python",
   "name": "python3"
  },
  "language_info": {
   "codemirror_mode": {
    "name": "ipython",
    "version": 3
   },
   "file_extension": ".py",
   "mimetype": "text/x-python",
   "name": "python",
   "nbconvert_exporter": "python",
   "pygments_lexer": "ipython3",
   "version": "3.7.4"
  }
 },
 "nbformat": 4,
 "nbformat_minor": 4
}
